{
 "cells": [
  {
   "cell_type": "markdown",
   "id": "aaafa2bb",
   "metadata": {},
   "source": [
    "# La programmation orienté objet :"
   ]
  },
  {
   "cell_type": "markdown",
   "id": "b6a3c4a1",
   "metadata": {},
   "source": [
    "---"
   ]
  },
  {
   "cell_type": "markdown",
   "id": "b7f35c29",
   "metadata": {},
   "source": [
    "## Pourquoi ?"
   ]
  },
  {
   "cell_type": "markdown",
   "id": "35fb351b",
   "metadata": {},
   "source": [
    "- ### Structurer, organiser votre code\n",
    "- ### Modulaire et évolutif\n",
    "- ### Réduire les dépendance\n",
    "    - Parties de code indépendantes\n",
    "    - Facilement réutilisables"
   ]
  },
  {
   "cell_type": "markdown",
   "id": "507aab5c",
   "metadata": {},
   "source": [
    "### Objet & Classe :\n",
    "Un objet est une instance d'une classe. \n",
    "Une classe permet de créer plusieus objets en ce basant sur ces attribues."
   ]
  },
  {
   "cell_type": "markdown",
   "id": "0f08a0bf",
   "metadata": {},
   "source": [
    "### Constructeur :\n",
    "Est une fonction qui sera appelée lors de la création de notre objet et qui nous permettra de l'initialisé."
   ]
  },
  {
   "cell_type": "markdown",
   "id": "0623d612",
   "metadata": {},
   "source": [
    "# Héritage :\n",
    "En programmation orientée objet (POO), l'héritage est un concept fondamental qui permet à une classe d'hériter des caractéristiques et du comportement d'une autre classe. Cela favorise la réutilisation du code, la structuration du programme et la création de hiérarchies entre les différentes classes. Voici quelques aspects importants de l'héritage en POO :\n",
    "\n",
    "Classe de Base (ou Classe Mère ou Superclasse) : La classe dont une autre classe hérite est appelée classe de base. Elle définit les caractéristiques et les comportements généraux que les classes dérivées pourront utiliser. Elle agit comme un modèle pour les autres classes.\n",
    "\n",
    "Classe Dérivée (ou Classe Enfant ou Sous-classe) : La classe qui hérite d'une autre classe est appelée classe dérivée. Elle hérite des attributs et des méthodes de la classe de base et peut également avoir ses propres attributs et méthodes spécifiques.\n",
    "\n",
    "Réutilisation du Code : L'un des avantages clés de l'héritage est la réutilisation du code. Plutôt que de réécrire les fonctionnalités communes dans chaque classe, vous pouvez les placer dans une classe de base, puis faire hériter d'autres classes pour bénéficier de ces fonctionnalités sans duplication.\n",
    "\n",
    "Hiérarchie de Classes : L'héritage permet de créer une hiérarchie de classes. Plusieurs niveaux d'héritage peuvent être établis, avec une classe de base qui peut elle-même être une classe dérivée d'une autre classe. Cela crée une structure arborescente où chaque classe hérite des caractéristiques de ses ancêtres.\n",
    "\n",
    "Polymorphisme : L'héritage facilite la mise en œuvre du polymorphisme, qui permet à des objets de classes différentes de répondre de manière similaire à des méthodes identiques. Cela peut être réalisé grâce à la substitution de méthodes, où une classe dérivée peut fournir une implémentation spécifique tout en conservant la même signature que la classe de base.\n",
    "\n",
    "Encapsulation : L'héritage, combiné à l'encapsulation, permet de définir des classes de base abstraites qui servent de modèles pour des comportements spécifiques sans fournir d'implémentation concrète. Ces classes abstraites peuvent ensuite être étendues par des classes dérivées qui fournissent des implémentations spécifiques.\n",
    "\n",
    "Mot-clé super : En POO, le mot-clé super est souvent utilisé pour accéder aux méthodes de la classe de base à partir de la classe dérivée, permettant ainsi d'étendre le comportement existant plutôt que de le remplacer.\n",
    "\n",
    "En somme, l'héritage en POO offre une approche puissante pour organiser et structurer le code de manière à favoriser la réutilisation, la maintenabilité et l'extension des fonctionnalités d'une application."
   ]
  },
  {
   "cell_type": "markdown",
   "id": "9bb3bd3a",
   "metadata": {},
   "source": [
    "### Training :\n",
    " - #### Donnée : nom, age\n",
    " - #### Action : \n",
    "     - Sepresenter\n",
    "     - Demandernom(input)"
   ]
  },
  {
   "cell_type": "code",
   "execution_count": 99,
   "id": "b16e37c7",
   "metadata": {},
   "outputs": [],
   "source": [
    "class Person:\n",
    "    def __init__(self, name, birthday):\n",
    "        self.name = name # Crée une variable d'instance : name\n",
    "        self.birthday = birthday # Crée une variable d'instance : birthday\n",
    "    def presenting(self):\n",
    "        print(f'Hello everybody, i am {self.name} i am {self.birthday} year old')\n",
    "    def yourname(self):\n",
    "        name = input('give me your name : ')\n",
    "        return name\n",
    "    def show():\n",
    "            print('Nice to meet you')"
   ]
  },
  {
   "cell_type": "code",
   "execution_count": 101,
   "id": "bc30d628",
   "metadata": {},
   "outputs": [
    {
     "name": "stdout",
     "output_type": "stream",
     "text": [
      "Hello everybody, i am Daouda i am 18 year old\n",
      "Nice to meet you\n",
      "Daouda\n"
     ]
    }
   ],
   "source": [
    "def main():\n",
    "    p1 = Person('Daouda', 18)\n",
    "    p1.presenting() # Méthode d'instance\n",
    "    Person.show() # Méthode de classe\n",
    "    #Person.name\n",
    "    print(p1.name)\n",
    "main()"
   ]
  },
  {
   "cell_type": "code",
   "execution_count": 81,
   "id": "0f8b9f19",
   "metadata": {},
   "outputs": [],
   "source": []
  },
  {
   "cell_type": "code",
   "execution_count": null,
   "id": "4f2feda3",
   "metadata": {},
   "outputs": [],
   "source": []
  },
  {
   "cell_type": "code",
   "execution_count": null,
   "id": "dd9d2a2b",
   "metadata": {},
   "outputs": [],
   "source": []
  },
  {
   "cell_type": "code",
   "execution_count": null,
   "id": "9e430ba8",
   "metadata": {},
   "outputs": [],
   "source": []
  },
  {
   "cell_type": "code",
   "execution_count": null,
   "id": "4e075699",
   "metadata": {},
   "outputs": [],
   "source": []
  }
 ],
 "metadata": {
  "kernelspec": {
   "display_name": "Python 3 (ipykernel)",
   "language": "python",
   "name": "python3"
  },
  "language_info": {
   "codemirror_mode": {
    "name": "ipython",
    "version": 3
   },
   "file_extension": ".py",
   "mimetype": "text/x-python",
   "name": "python",
   "nbconvert_exporter": "python",
   "pygments_lexer": "ipython3",
   "version": "3.11.5"
  }
 },
 "nbformat": 4,
 "nbformat_minor": 5
}
