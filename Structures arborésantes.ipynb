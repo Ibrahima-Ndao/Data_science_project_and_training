{
 "cells": [
  {
   "cell_type": "markdown",
   "id": "78dcc5ff",
   "metadata": {},
   "source": [
    "# Structures arborésantes : les arbres"
   ]
  },
  {
   "cell_type": "markdown",
   "id": "b2e16638",
   "metadata": {},
   "source": [
    "## 1. Structure d'un arbre quelconque : "
   ]
  },
  {
   "cell_type": "markdown",
   "id": "15176745",
   "metadata": {},
   "source": [
    "- Un arbre est dit n-aire si chaque noeud posséde au plus n fils(0, 1, 2,.....,n)\n",
    "- On appelle feuille ou noeud terminal, tout noeud qui posséde pas de fils(5, 6, 3, 7, 8, 9)\n",
    "- On appelle noeud interne ou noeud non interne tout noeud qui n'est pasnla racine et posséde au moins un fils(2, 4).\n",
    "- Fils ainé (fils plus à gauche)\n",
    "- Fils cadet (fils plus à droite)\n",
    "- noeud racine (point d'accès de l'arbre)"
   ]
  },
  {
   "cell_type": "markdown",
   "id": "2b308402",
   "metadata": {},
   "source": [
    "## 2. Type de parcours d'un arbre :"
   ]
  },
  {
   "cell_type": "markdown",
   "id": "27273525",
   "metadata": {},
   "source": [
    "- Les parcours en profondeur dans les quels on descend le plus profondément possible dans une branche avant de remettre et d'examiner une autre branche.\n",
    "- Les parcours en largeur ou les noeuds sont affiché étage par étage.\n",
    "- Pour le parcours en largeur on peut traiter directement un arbre n-aire.\n",
    "- Pour les parcours en profondeur, il est plus facile de convertir l'arbre n-air en un arbre dit binaire.\n",
    "- Un arbre binaire est un arbre dans le quel, chaque noeud admet au plus 2 fils (0, 1, 2) \n",
    "- Dans un arbre binaire, si un noeud posséde deux fils alors l'un est appelé fils gauche et l'autre fils droite\n",
    "- Dans un arbre binaire, si un noeud posséde un fils alors il est soit fils gauche, soit fils droite.\n",
    "- La transformation d'un arbre n-aire en arbre binaire se fait selon les règles suivant : \n",
    "    - La racine de l'arbre binaire est celle de arbre n-aire\n",
    "    - Chaque fils ainé devient un fils gauche.\n",
    "    - Les frères du fils ainé deviennent des fils droits du fis ainé"
   ]
  },
  {
   "cell_type": "markdown",
   "id": "c6cf6cd4",
   "metadata": {},
   "source": [
    "Pour les parcours en profondeur on utilise les piles, pour le parcours en largeur on utilise les files"
   ]
  },
  {
   "cell_type": "markdown",
   "id": "090827bd",
   "metadata": {},
   "source": [
    "## 3. Propiétés des arbres binaires :"
   ]
  },
  {
   "cell_type": "markdown",
   "id": "9145ee53",
   "metadata": {},
   "source": [
    "- Les parcours en profondeur utilisent une pile (LIFO)\n",
    "- Le parcours en largeur utilise une file (FIFO)"
   ]
  },
  {
   "cell_type": "markdown",
   "id": "57b386f8",
   "metadata": {},
   "source": [
    "- Un arbre est constitué de sous-arbres chaque noeud est lui meme un arbre avec un sous-arbre gauche appelé SAG (constitué de l'ensemble des noeuds à gauche) et d'un sous-arbre droit noté SAD (constitué des noeuds qui sont ç droite)\n",
    "- Un arbre binaire est vide si la racine est vide None"
   ]
  },
  {
   "cell_type": "markdown",
   "id": "77f29541",
   "metadata": {},
   "source": [
    "## 4. Les parcours en profondeur :"
   ]
  },
  {
   "cell_type": "markdown",
   "id": "d4489c6d",
   "metadata": {},
   "source": [
    "- Si le sous-arbre gauche est visité avant le SAD, on parle de parcours gauch-droite, sinon on parle de parcours en profondeur droit-gauche\n",
    "- Par défaut, on utilise les parcours gauche-droit"
   ]
  },
  {
   "cell_type": "markdown",
   "id": "2784572a",
   "metadata": {},
   "source": [
    "<table>\n",
    "    <tr>\n",
    "       <th></th>\n",
    "        <th>Parcours gauche-droit</th>\n",
    "        <th>Parcours droit-gauch</th>\n",
    "    </tr>\n",
    "    <tr>\n",
    "        <td>préfixé</td>\n",
    "        <td>N-SAG-SAD</td>\n",
    "        <td>N-SAG-SAD</td>\n",
    "    </tr>\n",
    "    <tr>\n",
    "        <td>infixé</td>\n",
    "        <td>SAG-N-SAD</td>\n",
    "        <td>SAG-N-SAD</td>\n",
    "    </tr>\n",
    "    <tr>\n",
    "        <td>postfixé</td>\n",
    "        <td>SAG-SAD-N</td>\n",
    "        <td>SAG-SAD-N</td>\n",
    "    </tr>\n",
    "</table>"
   ]
  },
  {
   "cell_type": "markdown",
   "id": "92028f37",
   "metadata": {},
   "source": [
    "### __Préfixé__"
   ]
  },
  {
   "cell_type": "code",
   "execution_count": null,
   "id": "feb0bde5",
   "metadata": {},
   "outputs": [],
   "source": []
  },
  {
   "cell_type": "code",
   "execution_count": null,
   "id": "a3e41b5a",
   "metadata": {},
   "outputs": [],
   "source": []
  },
  {
   "cell_type": "code",
   "execution_count": null,
   "id": "d66ddaba",
   "metadata": {},
   "outputs": [],
   "source": []
  },
  {
   "cell_type": "code",
   "execution_count": null,
   "id": "528d4ea8",
   "metadata": {},
   "outputs": [],
   "source": [
    "class Noeud:\n",
    "    def __init__(self, data, left=None, right=None):\n",
    "        self.data = data\n",
    "        self.left = left\n",
    "        self.right = right\n",
    "\n",
    "class ArbreBinaire:\n",
    "    def __init__(self):\n",
    "        self.root = None\n",
    "        \n",
    "    def createTree(self):\n",
    "        one = Noeud(1)\n",
    "        two = Noeud(2)\n",
    "        three = Noeud(3)\n",
    "        four = Noeud(4)\n",
    "        five = Noeud(5)\n",
    "        self.root = one\n",
    "        one.left = two\n",
    "        one.right = three\n",
    "        two.left = four\n",
    "        two.right = five\n",
    "        \n",
    "    def prefixerecursif(self, p):\n",
    "        if p == None:\n",
    "            return\n",
    "        else:\n",
    "            print(p.data, end=' ')\n",
    "            self.prefixerecursif(p.left)\n",
    "            self.prefixerecursif(p.right)\n",
    "            \n",
    "    def prefixeiteratif(self, p):\n",
    "        pile = []\n",
    "        while p != None or len(pile) != 0:\n",
    "            while p != None:\n",
    "                print(p.data, end=' ')\n",
    "                pile.append(p)\n",
    "                p = p.left\n",
    "            if len(pile) != 0:\n",
    "                p = pile.pop()\n",
    "                p = p.right\n",
    "    def prefixeiteratif(self, p):\n",
    "        pile = []\n",
    "        while p != None or len(pile) != 0:\n",
    "            while p != None:\n",
    "                print(p.data, end=' ')\n",
    "                pile.append(p)\n",
    "                p = p.left\n",
    "            if len(pile) != 0:\n",
    "                p = pile.pop()\n",
    "                p = p.right\n",
    "    def prefixiteratif(self, p):\n",
    "        pile = []\n",
    "        while p != None or len(pile) != 0:\n",
    "            while p != None:\n",
    "                print(p.data, end=' ')\n",
    "                pile.append(p)\n",
    "                p = p.left\n",
    "            p = pile.pop()\n",
    "            p = p.right\n",
    "    def prefixteratif(self, p):\n",
    "        pile = []\n",
    "        while p != None or len(pile) != 0:\n",
    "            if p != None:\n",
    "                print(p.data, end=' ')\n",
    "                pile.append(p)\n",
    "                p = p.left\n",
    "            else:\n",
    "                p = pile.pop()\n",
    "                p = p.right\n",
    "   \n",
    "                \n",
    "def main():\n",
    "    ab = ArbreBinaire()\n",
    "    ab.createTree()\n",
    "    print(\"Recursive Preorder Traversal:\")\n",
    "    ab.prefixerecursif(ab.root)\n",
    "    print(\"\\nIterative Preorder Traversal: (1)\")\n",
    "    ab.prefixeiteratif(ab.root)\n",
    "    print(\"\\nIterative Preorder Traversal: (2)\")\n",
    "    ab.prefixiteratif(ab.root) \n",
    "    print(\"\\nIterative Preorder Traversal: (3)\")\n",
    "    #ab.prefixteratif(ab.root)\n",
    "main()\n"
   ]
  },
  {
   "cell_type": "code",
   "execution_count": null,
   "id": "4c637b39",
   "metadata": {},
   "outputs": [],
   "source": []
  },
  {
   "cell_type": "code",
   "execution_count": null,
   "id": "bc129bac",
   "metadata": {},
   "outputs": [],
   "source": []
  },
  {
   "cell_type": "code",
   "execution_count": null,
   "id": "6836d750",
   "metadata": {},
   "outputs": [],
   "source": []
  },
  {
   "cell_type": "code",
   "execution_count": null,
   "id": "4a180f2d",
   "metadata": {},
   "outputs": [],
   "source": []
  }
 ],
 "metadata": {
  "kernelspec": {
   "display_name": "Python 3 (ipykernel)",
   "language": "python",
   "name": "python3"
  },
  "language_info": {
   "codemirror_mode": {
    "name": "ipython",
    "version": 3
   },
   "file_extension": ".py",
   "mimetype": "text/x-python",
   "name": "python",
   "nbconvert_exporter": "python",
   "pygments_lexer": "ipython3",
   "version": "3.11.5"
  }
 },
 "nbformat": 4,
 "nbformat_minor": 5
}
