{
 "cells": [
  {
   "cell_type": "markdown",
   "id": "9b144358",
   "metadata": {},
   "source": [
    "# Module OS"
   ]
  },
  {
   "cell_type": "code",
   "execution_count": 13,
   "id": "cf2b6d4e",
   "metadata": {},
   "outputs": [],
   "source": [
    "import os"
   ]
  },
  {
   "cell_type": "code",
   "execution_count": 15,
   "id": "970ae03e",
   "metadata": {},
   "outputs": [
    {
     "data": {
      "text/plain": [
       "'C:\\\\Users\\\\USER\\\\Documents\\\\Data science\\\\Training python for datascience'"
      ]
     },
     "execution_count": 15,
     "metadata": {},
     "output_type": "execute_result"
    }
   ],
   "source": [
    "os.getcwd()"
   ]
  },
  {
   "cell_type": "code",
   "execution_count": 17,
   "id": "2f898b6c",
   "metadata": {},
   "outputs": [
    {
     "data": {
      "text/plain": [
       "['.ipynb_checkpoints',\n",
       " 'challenge.ipynb',\n",
       " 'Challenge1.ipynb',\n",
       " 'Challenge2.ipynb',\n",
       " 'Data',\n",
       " 'Dictionnaire.ipynb',\n",
       " 'dictionnaire.txt',\n",
       " 'Fichier.ipynb',\n",
       " 'Fonctions.ipynb',\n",
       " 'Les piles.ipynb',\n",
       " 'POO.ipynb',\n",
       " 'Training list.ipynb']"
      ]
     },
     "execution_count": 17,
     "metadata": {},
     "output_type": "execute_result"
    }
   ],
   "source": [
    "os.listdir()"
   ]
  },
  {
   "cell_type": "code",
   "execution_count": null,
   "id": "362291eb",
   "metadata": {},
   "outputs": [],
   "source": []
  },
  {
   "cell_type": "code",
   "execution_count": null,
   "id": "d675877b",
   "metadata": {},
   "outputs": [],
   "source": []
  },
  {
   "cell_type": "code",
   "execution_count": null,
   "id": "85471aa3",
   "metadata": {},
   "outputs": [],
   "source": []
  },
  {
   "cell_type": "code",
   "execution_count": 29,
   "id": "70171e20",
   "metadata": {},
   "outputs": [],
   "source": [
    "f = open('Data/countries.csv', 'r').read()"
   ]
  },
  {
   "cell_type": "code",
   "execution_count": 5,
   "id": "7056fba4",
   "metadata": {},
   "outputs": [],
   "source": [
    "data_countries = f.split('\\n')"
   ]
  },
  {
   "cell_type": "code",
   "execution_count": 8,
   "id": "ad8417b9",
   "metadata": {},
   "outputs": [
    {
     "name": "stdout",
     "output_type": "stream",
     "text": [
      "['country,latitude,longitude,name', 'AD,42.546245,1.601554,Andorra', 'AE,23.424076,53.847818,\"United Arab Emirates\"', 'AF,33.93911,67.709953,Afghanistan', 'AG,17.060816,-61.796428,\"Antigua and Barbuda\"', 'AI,18.220554,-63.068615,Anguilla', 'AL,41.153332,20.168331,Albania', 'AM,40.069099,45.038189,Armenia', 'AN,12.226079,-69.060087,\"Netherlands Antilles\"', 'AO,-11.202692,17.873887,Angola']\n"
     ]
    }
   ],
   "source": [
    "print(data_countries[0:10])"
   ]
  },
  {
   "cell_type": "code",
   "execution_count": 20,
   "id": "63c18d52",
   "metadata": {},
   "outputs": [
    {
     "name": "stdout",
     "output_type": "stream",
     "text": [
      "['AE,23.424076,53.847818,\"United Arab Emirates\"', 'AF,33.93911,67.709953,Afghanistan', 'AG,17.060816,-61.796428,\"Antigua and Barbuda\"', 'AI,18.220554,-63.068615,Anguilla', 'AL,41.153332,20.168331,Albania', 'AM,40.069099,45.038189,Armenia', 'AN,12.226079,-69.060087,\"Netherlands Antilles\"', 'AO,-11.202692,17.873887,Angola', 'AQ,-75.250973,-0.071389,Antarctica']\n"
     ]
    }
   ],
   "source": [
    "countries_data = data_countries[1:]\n",
    "print(countries_data[1:10])"
   ]
  },
  {
   "cell_type": "code",
   "execution_count": 75,
   "id": "98826f97",
   "metadata": {},
   "outputs": [
    {
     "name": "stdout",
     "output_type": "stream",
     "text": [
      "[['AD', '42.546245', '1.601554', 'Andorra'], ['AE', '23.424076', '53.847818', '\"United Arab Emirates\"'], ['AF', '33.93911', '67.709953', 'Afghanistan'], ['AG', '17.060816', '-61.796428', '\"Antigua and Barbuda\"'], ['AI', '18.220554', '-63.068615', 'Anguilla'], ['AL', '41.153332', '20.168331', 'Albania'], ['AM', '40.069099', '45.038189', 'Armenia'], ['AN', '12.226079', '-69.060087', '\"Netherlands Antilles\"'], ['AO', '-11.202692', '17.873887', 'Angola'], ['AQ', '-75.250973', '-0.071389', 'Antarctica'], ['AR', '-38.416097', '-63.616672', 'Argentina'], ['AS', '-14.270972', '-170.132217', '\"American Samoa\"'], ['AT', '47.516231', '14.550072', 'Austria'], ['AU', '-25.274398', '133.775136', 'Australia'], ['AW', '12.52111', '-69.968338', 'Aruba'], ['AZ', '40.143105', '47.576927', 'Azerbaijan'], ['BA', '43.915886', '17.679076', '\"Bosnia and Herzegovina\"'], ['BB', '13.193887', '-59.543198', 'Barbados'], ['BD', '23.684994', '90.356331', 'Bangladesh'], ['BE', '50.503887', '4.469936', 'Belgium']]\n"
     ]
    }
   ],
   "source": [
    "countries_data_list = []\n",
    "for countrie in countries_data:\n",
    "    countries_data_list.append(countrie.split(','))\n",
    "print(countries_data_list[0:20])"
   ]
  },
  {
   "cell_type": "code",
   "execution_count": 73,
   "id": "3ba94840",
   "metadata": {},
   "outputs": [
    {
     "name": "stdout",
     "output_type": "stream",
     "text": [
      "[['AD', '42.546245', '1.601554', 'Andorra'], ['AE', '23.424076', '53.847818', '\"United Arab Emirates\"'], ['AF', '33.93911', '67.709953', 'Afghanistan'], ['AG', '17.060816', '-61.796428', '\"Antigua and Barbuda\"'], ['AI', '18.220554', '-63.068615', 'Anguilla'], ['AL', '41.153332', '20.168331', 'Albania'], ['AM', '40.069099', '45.038189', 'Armenia'], ['AN', '12.226079', '-69.060087', '\"Netherlands Antilles\"'], ['AO', '-11.202692', '17.873887', 'Angola'], ['AQ', '-75.250973', '-0.071389', 'Antarctica']]\n"
     ]
    }
   ],
   "source": [
    "countries = []\n",
    "for countrie in countries_data_list:\n",
    "    countries.append(countrie)\n",
    "    #print(countrie)\n",
    "print(countries[0:10])"
   ]
  },
  {
   "cell_type": "markdown",
   "id": "819e35cb",
   "metadata": {},
   "source": [
    "# Le nombre total de pays dans le jeu de donnée"
   ]
  },
  {
   "cell_type": "code",
   "execution_count": 76,
   "id": "e90e88d7",
   "metadata": {},
   "outputs": [
    {
     "ename": "IndexError",
     "evalue": "list index out of range",
     "output_type": "error",
     "traceback": [
      "\u001b[1;31m---------------------------------------------------------------------------\u001b[0m",
      "\u001b[1;31mIndexError\u001b[0m                                Traceback (most recent call last)",
      "Cell \u001b[1;32mIn[76], line 6\u001b[0m\n\u001b[0;32m      4\u001b[0m         List_countries\u001b[38;5;241m.\u001b[39mappend(countrie[\u001b[38;5;241m1\u001b[39m])\n\u001b[0;32m      5\u001b[0m     \u001b[38;5;28;01mreturn\u001b[39;00m \u001b[38;5;28mlen\u001b[39m(List_countries)\n\u001b[1;32m----> 6\u001b[0m count_countries()\n",
      "Cell \u001b[1;32mIn[76], line 4\u001b[0m, in \u001b[0;36mcount_countries\u001b[1;34m()\u001b[0m\n\u001b[0;32m      2\u001b[0m List_countries \u001b[38;5;241m=\u001b[39m []\n\u001b[0;32m      3\u001b[0m \u001b[38;5;28;01mfor\u001b[39;00m countrie \u001b[38;5;129;01min\u001b[39;00m countries_data_list:\n\u001b[1;32m----> 4\u001b[0m     List_countries\u001b[38;5;241m.\u001b[39mappend(countrie[\u001b[38;5;241m1\u001b[39m])\n\u001b[0;32m      5\u001b[0m \u001b[38;5;28;01mreturn\u001b[39;00m \u001b[38;5;28mlen\u001b[39m(List_countries)\n",
      "\u001b[1;31mIndexError\u001b[0m: list index out of range"
     ]
    }
   ],
   "source": [
    "def count_countries():\n",
    "    List_countries = []\n",
    "    for countrie in countries_data_list:\n",
    "        List_countries.append(countrie[1])\n",
    "    return len(List_countries)\n",
    "count_countries()"
   ]
  },
  {
   "cell_type": "code",
   "execution_count": null,
   "id": "d563f0b5",
   "metadata": {},
   "outputs": [],
   "source": []
  },
  {
   "cell_type": "code",
   "execution_count": null,
   "id": "884200f7",
   "metadata": {},
   "outputs": [],
   "source": []
  },
  {
   "cell_type": "code",
   "execution_count": null,
   "id": "97109409",
   "metadata": {},
   "outputs": [],
   "source": []
  },
  {
   "cell_type": "code",
   "execution_count": 36,
   "id": "fc3d4ecc",
   "metadata": {},
   "outputs": [
    {
     "data": {
      "text/plain": [
       "[\"En termes généraux, la scence des données est l'extraction de conaissance d'ensembles de données.   \\n\",\n",
       " ' \\n',\n",
       " \"Elle emploie des techniques et des théories tirées de plusieurs autres domaines plus larges des mathématiques, la statistique principalement, la téorie de l'information et la technologie de l'information, notamment le traitement de signal, des modèles probabilistes, l'apprentissage automatique, l'apprentissage statistiqe, la programmation informatique, l'ingénierie de données, la reconnaissance de formes et l'apprentissage, la visualisation, l'analytique prophétique, la modélisation d'incertitude, le stokage de données, la compression de données et le calcul à haute performance. \\n\",\n",
       " ' \\n',\n",
       " \"Les méthodes qui s'adaptent aux données de masse sont particulièrement intéressantes dans la science des données, bien que la dicipline ne soit généralement pas considérée come limitée à ces données.   \\n\",\n",
       " ' \\n',\n",
       " \"Le premier objectif est de produire des méthodes automatisées, autant que possible de tri et d'analyse de données de masse et de sources plus ou moins complexes ou disjointes de données, afin d'en extraire des informations utiles ou potentiellement utiles. Source Wikipédia\"]"
      ]
     },
     "execution_count": 36,
     "metadata": {},
     "output_type": "execute_result"
    }
   ],
   "source": [
    "with open('Data/texte.txt', 'r', encoding='utf-8') as f:\n",
    "    text = f.readlines()\n",
    "text"
   ]
  },
  {
   "cell_type": "code",
   "execution_count": 44,
   "id": "e3ba05b8",
   "metadata": {},
   "outputs": [
    {
     "data": {
      "text/plain": [
       "[['country', 'latitude', 'longitude', 'name'],\n",
       " ['AD', '42.546245', '1.601554', 'Andorra'],\n",
       " ['AE', '23.424076', '53.847818', 'United Arab Emirates'],\n",
       " ['AF', '33.93911', '67.709953', 'Afghanistan'],\n",
       " ['AG', '17.060816', '-61.796428', 'Antigua and Barbuda'],\n",
       " ['AI', '18.220554', '-63.068615', 'Anguilla'],\n",
       " ['AL', '41.153332', '20.168331', 'Albania'],\n",
       " ['AM', '40.069099', '45.038189', 'Armenia'],\n",
       " ['AN', '12.226079', '-69.060087', 'Netherlands Antilles'],\n",
       " ['AO', '-11.202692', '17.873887', 'Angola']]"
      ]
     },
     "execution_count": 44,
     "metadata": {},
     "output_type": "execute_result"
    }
   ],
   "source": [
    "import csv\n",
    "with open('Data/countries.csv', 'r') as f:\n",
    "    reader = csv.reader(f)\n",
    "    data = list(reader)\n",
    "data[0:10]"
   ]
  },
  {
   "cell_type": "code",
   "execution_count": 50,
   "id": "73942bdf",
   "metadata": {},
   "outputs": [
    {
     "ename": "FileNotFoundError",
     "evalue": "[Errno 2] No such file or directory: 'Data/countries_data.csv'",
     "output_type": "error",
     "traceback": [
      "\u001b[1;31m---------------------------------------------------------------------------\u001b[0m",
      "\u001b[1;31mFileNotFoundError\u001b[0m                         Traceback (most recent call last)",
      "Cell \u001b[1;32mIn[50], line 2\u001b[0m\n\u001b[0;32m      1\u001b[0m \u001b[38;5;28;01mimport\u001b[39;00m \u001b[38;5;21;01mcsv\u001b[39;00m\n\u001b[1;32m----> 2\u001b[0m \u001b[38;5;28;01mwith\u001b[39;00m \u001b[38;5;28mopen\u001b[39m(\u001b[38;5;124m'\u001b[39m\u001b[38;5;124mData/countries_data.csv\u001b[39m\u001b[38;5;124m'\u001b[39m, \u001b[38;5;124m'\u001b[39m\u001b[38;5;124mr\u001b[39m\u001b[38;5;124m'\u001b[39m, newline \u001b[38;5;241m=\u001b[39m \u001b[38;5;124m'\u001b[39m\u001b[38;5;124m'\u001b[39m) \u001b[38;5;28;01mas\u001b[39;00m f:\n\u001b[0;32m      3\u001b[0m     writer \u001b[38;5;241m=\u001b[39m csv\u001b[38;5;241m.\u001b[39mwriter(f)\n\u001b[0;32m      4\u001b[0m     writer\u001b[38;5;241m.\u001b[39mwriterows(data[\u001b[38;5;241m0\u001b[39m:\u001b[38;5;241m20\u001b[39m])\n",
      "File \u001b[1;32m~\\anaconda3\\Lib\\site-packages\\IPython\\core\\interactiveshell.py:286\u001b[0m, in \u001b[0;36m_modified_open\u001b[1;34m(file, *args, **kwargs)\u001b[0m\n\u001b[0;32m    279\u001b[0m \u001b[38;5;28;01mif\u001b[39;00m file \u001b[38;5;129;01min\u001b[39;00m {\u001b[38;5;241m0\u001b[39m, \u001b[38;5;241m1\u001b[39m, \u001b[38;5;241m2\u001b[39m}:\n\u001b[0;32m    280\u001b[0m     \u001b[38;5;28;01mraise\u001b[39;00m \u001b[38;5;167;01mValueError\u001b[39;00m(\n\u001b[0;32m    281\u001b[0m         \u001b[38;5;124mf\u001b[39m\u001b[38;5;124m\"\u001b[39m\u001b[38;5;124mIPython won\u001b[39m\u001b[38;5;124m'\u001b[39m\u001b[38;5;124mt let you open fd=\u001b[39m\u001b[38;5;132;01m{\u001b[39;00mfile\u001b[38;5;132;01m}\u001b[39;00m\u001b[38;5;124m by default \u001b[39m\u001b[38;5;124m\"\u001b[39m\n\u001b[0;32m    282\u001b[0m         \u001b[38;5;124m\"\u001b[39m\u001b[38;5;124mas it is likely to crash IPython. If you know what you are doing, \u001b[39m\u001b[38;5;124m\"\u001b[39m\n\u001b[0;32m    283\u001b[0m         \u001b[38;5;124m\"\u001b[39m\u001b[38;5;124myou can use builtins\u001b[39m\u001b[38;5;124m'\u001b[39m\u001b[38;5;124m open.\u001b[39m\u001b[38;5;124m\"\u001b[39m\n\u001b[0;32m    284\u001b[0m     )\n\u001b[1;32m--> 286\u001b[0m \u001b[38;5;28;01mreturn\u001b[39;00m io_open(file, \u001b[38;5;241m*\u001b[39margs, \u001b[38;5;241m*\u001b[39m\u001b[38;5;241m*\u001b[39mkwargs)\n",
      "\u001b[1;31mFileNotFoundError\u001b[0m: [Errno 2] No such file or directory: 'Data/countries_data.csv'"
     ]
    }
   ],
   "source": [
    "import csv\n",
    "with open('Data/countries_data.csv', 'r', newline = '') as f:\n",
    "    writer = csv.writer(f)\n",
    "    writer.writerows(data[0:20])"
   ]
  },
  {
   "cell_type": "code",
   "execution_count": null,
   "id": "76d2caae",
   "metadata": {},
   "outputs": [],
   "source": []
  },
  {
   "cell_type": "code",
   "execution_count": null,
   "id": "54fc698c",
   "metadata": {},
   "outputs": [],
   "source": []
  }
 ],
 "metadata": {
  "kernelspec": {
   "display_name": "Python 3 (ipykernel)",
   "language": "python",
   "name": "python3"
  },
  "language_info": {
   "codemirror_mode": {
    "name": "ipython",
    "version": 3
   },
   "file_extension": ".py",
   "mimetype": "text/x-python",
   "name": "python",
   "nbconvert_exporter": "python",
   "pygments_lexer": "ipython3",
   "version": "3.11.5"
  }
 },
 "nbformat": 4,
 "nbformat_minor": 5
}
