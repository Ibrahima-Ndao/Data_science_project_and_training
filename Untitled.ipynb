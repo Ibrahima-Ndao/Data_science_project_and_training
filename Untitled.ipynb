{
 "cells": [
  {
   "cell_type": "code",
   "execution_count": 21,
   "id": "969afed0",
   "metadata": {},
   "outputs": [],
   "source": [
    "import json\n",
    "with open('Data/iris.json', 'r') as f:\n",
    "    data = json.load(f)"
   ]
  },
  {
   "cell_type": "code",
   "execution_count": 6,
   "id": "11b69675",
   "metadata": {},
   "outputs": [
    {
     "name": "stdout",
     "output_type": "stream",
     "text": [
      "[['  {\"sepalLength\": 5.1', ' \"sepalWidth\": 3.5', ' \"petalLength\": 1.4', ' \"petalWidth\": 0.2', ' \"species\": \"setosa\"}', ''], ['  {\"sepalLength\": 4.9', ' \"sepalWidth\": 3.0', ' \"petalLength\": 1.4', ' \"petalWidth\": 0.2', ' \"species\": \"setosa\"}', ''], ['  {\"sepalLength\": 4.7', ' \"sepalWidth\": 3.2', ' \"petalLength\": 1.3', ' \"petalWidth\": 0.2', ' \"species\": \"setosa\"}', ''], ['  {\"sepalLength\": 4.6', ' \"sepalWidth\": 3.1', ' \"petalLength\": 1.5', ' \"petalWidth\": 0.2', ' \"species\": \"setosa\"}', ''], ['  {\"sepalLength\": 5.0', ' \"sepalWidth\": 3.6', ' \"petalLength\": 1.4', ' \"petalWidth\": 0.2', ' \"species\": \"setosa\"}', ''], ['  {\"sepalLength\": 5.4', ' \"sepalWidth\": 3.9', ' \"petalLength\": 1.7', ' \"petalWidth\": 0.4', ' \"species\": \"setosa\"}', ''], ['  {\"sepalLength\": 4.6', ' \"sepalWidth\": 3.4', ' \"petalLength\": 1.4', ' \"petalWidth\": 0.3', ' \"species\": \"setosa\"}', ''], ['  {\"sepalLength\": 5.0', ' \"sepalWidth\": 3.4', ' \"petalLength\": 1.5', ' \"petalWidth\": 0.2', ' \"species\": \"setosa\"}', ''], ['  {\"sepalLength\": 4.4', ' \"sepalWidth\": 2.9', ' \"petalLength\": 1.4', ' \"petalWidth\": 0.2', ' \"species\": \"setosa\"}', ''], ['  {\"sepalLength\": 4.9', ' \"sepalWidth\": 3.1', ' \"petalLength\": 1.5', ' \"petalWidth\": 0.1', ' \"species\": \"setosa\"}', ''], ['  {\"sepalLength\": 5.4', ' \"sepalWidth\": 3.7', ' \"petalLength\": 1.5', ' \"petalWidth\": 0.2', ' \"species\": \"setosa\"}', ''], ['  {\"sepalLength\": 4.8', ' \"sepalWidth\": 3.4', ' \"petalLength\": 1.6', ' \"petalWidth\": 0.2', ' \"species\": \"setosa\"}', ''], ['  {\"sepalLength\": 4.8', ' \"sepalWidth\": 3.0', ' \"petalLength\": 1.4', ' \"petalWidth\": 0.1', ' \"species\": \"setosa\"}', ''], ['  {\"sepalLength\": 4.3', ' \"sepalWidth\": 3.0', ' \"petalLength\": 1.1', ' \"petalWidth\": 0.1', ' \"species\": \"setosa\"}', ''], ['  {\"sepalLength\": 5.8', ' \"sepalWidth\": 4.0', ' \"petalLength\": 1.2', ' \"petalWidth\": 0.2', ' \"species\": \"setosa\"}', ''], ['  {\"sepalLength\": 5.7', ' \"sepalWidth\": 4.4', ' \"petalLength\": 1.5', ' \"petalWidth\": 0.4', ' \"species\": \"setosa\"}', ''], ['  {\"sepalLength\": 5.4', ' \"sepalWidth\": 3.9', ' \"petalLength\": 1.3', ' \"petalWidth\": 0.4', ' \"species\": \"setosa\"}', ''], ['  {\"sepalLength\": 5.1', ' \"sepalWidth\": 3.5', ' \"petalLength\": 1.4', ' \"petalWidth\": 0.3', ' \"species\": \"setosa\"}', ''], ['  {\"sepalLength\": 5.7', ' \"sepalWidth\": 3.8', ' \"petalLength\": 1.7', ' \"petalWidth\": 0.3', ' \"species\": \"setosa\"}', ''], ['  {\"sepalLength\": 5.1', ' \"sepalWidth\": 3.8', ' \"petalLength\": 1.5', ' \"petalWidth\": 0.3', ' \"species\": \"setosa\"}', ''], ['  {\"sepalLength\": 5.4', ' \"sepalWidth\": 3.4', ' \"petalLength\": 1.7', ' \"petalWidth\": 0.2', ' \"species\": \"setosa\"}', ''], ['  {\"sepalLength\": 5.1', ' \"sepalWidth\": 3.7', ' \"petalLength\": 1.5', ' \"petalWidth\": 0.4', ' \"species\": \"setosa\"}', ''], ['  {\"sepalLength\": 4.6', ' \"sepalWidth\": 3.6', ' \"petalLength\": 1.0', ' \"petalWidth\": 0.2', ' \"species\": \"setosa\"}', ''], ['  {\"sepalLength\": 5.1', ' \"sepalWidth\": 3.3', ' \"petalLength\": 1.7', ' \"petalWidth\": 0.5', ' \"species\": \"setosa\"}', ''], ['  {\"sepalLength\": 4.8', ' \"sepalWidth\": 3.4', ' \"petalLength\": 1.9', ' \"petalWidth\": 0.2', ' \"species\": \"setosa\"}', ''], ['  {\"sepalLength\": 5.0', ' \"sepalWidth\": 3.0', ' \"petalLength\": 1.6', ' \"petalWidth\": 0.2', ' \"species\": \"setosa\"}', ''], ['  {\"sepalLength\": 5.0', ' \"sepalWidth\": 3.4', ' \"petalLength\": 1.6', ' \"petalWidth\": 0.4', ' \"species\": \"setosa\"}', ''], ['  {\"sepalLength\": 5.2', ' \"sepalWidth\": 3.5', ' \"petalLength\": 1.5', ' \"petalWidth\": 0.2', ' \"species\": \"setosa\"}', ''], ['  {\"sepalLength\": 5.2', ' \"sepalWidth\": 3.4', ' \"petalLength\": 1.4', ' \"petalWidth\": 0.2', ' \"species\": \"setosa\"}', ''], ['  {\"sepalLength\": 4.7', ' \"sepalWidth\": 3.2', ' \"petalLength\": 1.6', ' \"petalWidth\": 0.2', ' \"species\": \"setosa\"}', ''], ['  {\"sepalLength\": 4.8', ' \"sepalWidth\": 3.1', ' \"petalLength\": 1.6', ' \"petalWidth\": 0.2', ' \"species\": \"setosa\"}', ''], ['  {\"sepalLength\": 5.4', ' \"sepalWidth\": 3.4', ' \"petalLength\": 1.5', ' \"petalWidth\": 0.4', ' \"species\": \"setosa\"}', ''], ['  {\"sepalLength\": 5.2', ' \"sepalWidth\": 4.1', ' \"petalLength\": 1.5', ' \"petalWidth\": 0.1', ' \"species\": \"setosa\"}', ''], ['  {\"sepalLength\": 5.5', ' \"sepalWidth\": 4.2', ' \"petalLength\": 1.4', ' \"petalWidth\": 0.2', ' \"species\": \"setosa\"}', ''], ['  {\"sepalLength\": 4.9', ' \"sepalWidth\": 3.1', ' \"petalLength\": 1.5', ' \"petalWidth\": 0.2', ' \"species\": \"setosa\"}', ''], ['  {\"sepalLength\": 5.0', ' \"sepalWidth\": 3.2', ' \"petalLength\": 1.2', ' \"petalWidth\": 0.2', ' \"species\": \"setosa\"}', ''], ['  {\"sepalLength\": 5.5', ' \"sepalWidth\": 3.5', ' \"petalLength\": 1.3', ' \"petalWidth\": 0.2', ' \"species\": \"setosa\"}', ''], ['  {\"sepalLength\": 4.9', ' \"sepalWidth\": 3.6', ' \"petalLength\": 1.4', ' \"petalWidth\": 0.1', ' \"species\": \"setosa\"}', ''], ['  {\"sepalLength\": 4.4', ' \"sepalWidth\": 3.0', ' \"petalLength\": 1.3', ' \"petalWidth\": 0.2', ' \"species\": \"setosa\"}', ''], ['  {\"sepalLength\": 5.1', ' \"sepalWidth\": 3.4', ' \"petalLength\": 1.5', ' \"petalWidth\": 0.2', ' \"species\": \"setosa\"}', ''], ['  {\"sepalLength\": 5.0', ' \"sepalWidth\": 3.5', ' \"petalLength\": 1.3', ' \"petalWidth\": 0.3', ' \"species\": \"setosa\"}', ''], ['  {\"sepalLength\": 4.5', ' \"sepalWidth\": 2.3', ' \"petalLength\": 1.3', ' \"petalWidth\": 0.3', ' \"species\": \"setosa\"}', ''], ['  {\"sepalLength\": 4.4', ' \"sepalWidth\": 3.2', ' \"petalLength\": 1.3', ' \"petalWidth\": 0.2', ' \"species\": \"setosa\"}', ''], ['  {\"sepalLength\": 5.0', ' \"sepalWidth\": 3.5', ' \"petalLength\": 1.6', ' \"petalWidth\": 0.6', ' \"species\": \"setosa\"}', ''], ['  {\"sepalLength\": 5.1', ' \"sepalWidth\": 3.8', ' \"petalLength\": 1.9', ' \"petalWidth\": 0.4', ' \"species\": \"setosa\"}', ''], ['  {\"sepalLength\": 4.8', ' \"sepalWidth\": 3.0', ' \"petalLength\": 1.4', ' \"petalWidth\": 0.3', ' \"species\": \"setosa\"}', ''], ['  {\"sepalLength\": 5.1', ' \"sepalWidth\": 3.8', ' \"petalLength\": 1.6', ' \"petalWidth\": 0.2', ' \"species\": \"setosa\"}', ''], ['  {\"sepalLength\": 4.6', ' \"sepalWidth\": 3.2', ' \"petalLength\": 1.4', ' \"petalWidth\": 0.2', ' \"species\": \"setosa\"}', ''], ['  {\"sepalLength\": 5.3', ' \"sepalWidth\": 3.7', ' \"petalLength\": 1.5', ' \"petalWidth\": 0.2', ' \"species\": \"setosa\"}', ''], ['  {\"sepalLength\": 5.0', ' \"sepalWidth\": 3.3', ' \"petalLength\": 1.4', ' \"petalWidth\": 0.2', ' \"species\": \"setosa\"}', ''], ['  {\"sepalLength\": 7.0', ' \"sepalWidth\": 3.2', ' \"petalLength\": 4.7', ' \"petalWidth\": 1.4', ' \"species\": \"versicolor\"}', ''], ['  {\"sepalLength\": 6.4', ' \"sepalWidth\": 3.2', ' \"petalLength\": 4.5', ' \"petalWidth\": 1.5', ' \"species\": \"versicolor\"}', ''], ['  {\"sepalLength\": 6.9', ' \"sepalWidth\": 3.1', ' \"petalLength\": 4.9', ' \"petalWidth\": 1.5', ' \"species\": \"versicolor\"}', ''], ['  {\"sepalLength\": 5.5', ' \"sepalWidth\": 2.3', ' \"petalLength\": 4.0', ' \"petalWidth\": 1.3', ' \"species\": \"versicolor\"}', ''], ['  {\"sepalLength\": 6.5', ' \"sepalWidth\": 2.8', ' \"petalLength\": 4.6', ' \"petalWidth\": 1.5', ' \"species\": \"versicolor\"}', ''], ['  {\"sepalLength\": 5.7', ' \"sepalWidth\": 2.8', ' \"petalLength\": 4.5', ' \"petalWidth\": 1.3', ' \"species\": \"versicolor\"}', ''], ['  {\"sepalLength\": 6.3', ' \"sepalWidth\": 3.3', ' \"petalLength\": 4.7', ' \"petalWidth\": 1.6', ' \"species\": \"versicolor\"}', ''], ['  {\"sepalLength\": 4.9', ' \"sepalWidth\": 2.4', ' \"petalLength\": 3.3', ' \"petalWidth\": 1.0', ' \"species\": \"versicolor\"}', ''], ['  {\"sepalLength\": 6.6', ' \"sepalWidth\": 2.9', ' \"petalLength\": 4.6', ' \"petalWidth\": 1.3', ' \"species\": \"versicolor\"}', ''], ['  {\"sepalLength\": 5.2', ' \"sepalWidth\": 2.7', ' \"petalLength\": 3.9', ' \"petalWidth\": 1.4', ' \"species\": \"versicolor\"}', ''], ['  {\"sepalLength\": 5.0', ' \"sepalWidth\": 2.0', ' \"petalLength\": 3.5', ' \"petalWidth\": 1.0', ' \"species\": \"versicolor\"}', ''], ['  {\"sepalLength\": 5.9', ' \"sepalWidth\": 3.0', ' \"petalLength\": 4.2', ' \"petalWidth\": 1.5', ' \"species\": \"versicolor\"}', ''], ['  {\"sepalLength\": 6.0', ' \"sepalWidth\": 2.2', ' \"petalLength\": 4.0', ' \"petalWidth\": 1.0', ' \"species\": \"versicolor\"}', ''], ['  {\"sepalLength\": 6.1', ' \"sepalWidth\": 2.9', ' \"petalLength\": 4.7', ' \"petalWidth\": 1.4', ' \"species\": \"versicolor\"}', ''], ['  {\"sepalLength\": 5.6', ' \"sepalWidth\": 2.9', ' \"petalLength\": 3.6', ' \"petalWidth\": 1.3', ' \"species\": \"versicolor\"}', ''], ['  {\"sepalLength\": 6.7', ' \"sepalWidth\": 3.1', ' \"petalLength\": 4.4', ' \"petalWidth\": 1.4', ' \"species\": \"versicolor\"}', ''], ['  {\"sepalLength\": 5.6', ' \"sepalWidth\": 3.0', ' \"petalLength\": 4.5', ' \"petalWidth\": 1.5', ' \"species\": \"versicolor\"}', ''], ['  {\"sepalLength\": 5.8', ' \"sepalWidth\": 2.7', ' \"petalLength\": 4.1', ' \"petalWidth\": 1.0', ' \"species\": \"versicolor\"}', ''], ['  {\"sepalLength\": 6.2', ' \"sepalWidth\": 2.2', ' \"petalLength\": 4.5', ' \"petalWidth\": 1.5', ' \"species\": \"versicolor\"}', ''], ['  {\"sepalLength\": 5.6', ' \"sepalWidth\": 2.5', ' \"petalLength\": 3.9', ' \"petalWidth\": 1.1', ' \"species\": \"versicolor\"}', ''], ['  {\"sepalLength\": 5.9', ' \"sepalWidth\": 3.2', ' \"petalLength\": 4.8', ' \"petalWidth\": 1.8', ' \"species\": \"versicolor\"}', ''], ['  {\"sepalLength\": 6.1', ' \"sepalWidth\": 2.8', ' \"petalLength\": 4.0', ' \"petalWidth\": 1.3', ' \"species\": \"versicolor\"}', ''], ['  {\"sepalLength\": 6.3', ' \"sepalWidth\": 2.5', ' \"petalLength\": 4.9', ' \"petalWidth\": 1.5', ' \"species\": \"versicolor\"}', ''], ['  {\"sepalLength\": 6.1', ' \"sepalWidth\": 2.8', ' \"petalLength\": 4.7', ' \"petalWidth\": 1.2', ' \"species\": \"versicolor\"}', ''], ['  {\"sepalLength\": 6.4', ' \"sepalWidth\": 2.9', ' \"petalLength\": 4.3', ' \"petalWidth\": 1.3', ' \"species\": \"versicolor\"}', ''], ['  {\"sepalLength\": 6.6', ' \"sepalWidth\": 3.0', ' \"petalLength\": 4.4', ' \"petalWidth\": 1.4', ' \"species\": \"versicolor\"}', ''], ['  {\"sepalLength\": 6.8', ' \"sepalWidth\": 2.8', ' \"petalLength\": 4.8', ' \"petalWidth\": 1.4', ' \"species\": \"versicolor\"}', ''], ['  {\"sepalLength\": 6.7', ' \"sepalWidth\": 3.0', ' \"petalLength\": 5.0', ' \"petalWidth\": 1.7', ' \"species\": \"versicolor\"}', ''], ['  {\"sepalLength\": 6.0', ' \"sepalWidth\": 2.9', ' \"petalLength\": 4.5', ' \"petalWidth\": 1.5', ' \"species\": \"versicolor\"}', ''], ['  {\"sepalLength\": 5.7', ' \"sepalWidth\": 2.6', ' \"petalLength\": 3.5', ' \"petalWidth\": 1.0', ' \"species\": \"versicolor\"}', ''], ['  {\"sepalLength\": 5.5', ' \"sepalWidth\": 2.4', ' \"petalLength\": 3.8', ' \"petalWidth\": 1.1', ' \"species\": \"versicolor\"}', ''], ['  {\"sepalLength\": 5.5', ' \"sepalWidth\": 2.4', ' \"petalLength\": 3.7', ' \"petalWidth\": 1.0', ' \"species\": \"versicolor\"}', ''], ['  {\"sepalLength\": 5.8', ' \"sepalWidth\": 2.7', ' \"petalLength\": 3.9', ' \"petalWidth\": 1.2', ' \"species\": \"versicolor\"}', ''], ['  {\"sepalLength\": 6.0', ' \"sepalWidth\": 2.7', ' \"petalLength\": 5.1', ' \"petalWidth\": 1.6', ' \"species\": \"versicolor\"}', ''], ['  {\"sepalLength\": 5.4', ' \"sepalWidth\": 3.0', ' \"petalLength\": 4.5', ' \"petalWidth\": 1.5', ' \"species\": \"versicolor\"}', ''], ['  {\"sepalLength\": 6.0', ' \"sepalWidth\": 3.4', ' \"petalLength\": 4.5', ' \"petalWidth\": 1.6', ' \"species\": \"versicolor\"}', ''], ['  {\"sepalLength\": 6.7', ' \"sepalWidth\": 3.1', ' \"petalLength\": 4.7', ' \"petalWidth\": 1.5', ' \"species\": \"versicolor\"}', ''], ['  {\"sepalLength\": 6.3', ' \"sepalWidth\": 2.3', ' \"petalLength\": 4.4', ' \"petalWidth\": 1.3', ' \"species\": \"versicolor\"}', ''], ['  {\"sepalLength\": 5.6', ' \"sepalWidth\": 3.0', ' \"petalLength\": 4.1', ' \"petalWidth\": 1.3', ' \"species\": \"versicolor\"}', ''], ['  {\"sepalLength\": 5.5', ' \"sepalWidth\": 2.5', ' \"petalLength\": 4.0', ' \"petalWidth\": 1.3', ' \"species\": \"versicolor\"}', ''], ['  {\"sepalLength\": 5.5', ' \"sepalWidth\": 2.6', ' \"petalLength\": 4.4', ' \"petalWidth\": 1.2', ' \"species\": \"versicolor\"}', ''], ['  {\"sepalLength\": 6.1', ' \"sepalWidth\": 3.0', ' \"petalLength\": 4.6', ' \"petalWidth\": 1.4', ' \"species\": \"versicolor\"}', ''], ['  {\"sepalLength\": 5.8', ' \"sepalWidth\": 2.6', ' \"petalLength\": 4.0', ' \"petalWidth\": 1.2', ' \"species\": \"versicolor\"}', ''], ['  {\"sepalLength\": 5.0', ' \"sepalWidth\": 2.3', ' \"petalLength\": 3.3', ' \"petalWidth\": 1.0', ' \"species\": \"versicolor\"}', ''], ['  {\"sepalLength\": 5.6', ' \"sepalWidth\": 2.7', ' \"petalLength\": 4.2', ' \"petalWidth\": 1.3', ' \"species\": \"versicolor\"}', ''], ['  {\"sepalLength\": 5.7', ' \"sepalWidth\": 3.0', ' \"petalLength\": 4.2', ' \"petalWidth\": 1.2', ' \"species\": \"versicolor\"}', ''], ['  {\"sepalLength\": 5.7', ' \"sepalWidth\": 2.9', ' \"petalLength\": 4.2', ' \"petalWidth\": 1.3', ' \"species\": \"versicolor\"}', ''], ['  {\"sepalLength\": 6.2', ' \"sepalWidth\": 2.9', ' \"petalLength\": 4.3', ' \"petalWidth\": 1.3', ' \"species\": \"versicolor\"}', ''], ['  {\"sepalLength\": 5.1', ' \"sepalWidth\": 2.5', ' \"petalLength\": 3.0', ' \"petalWidth\": 1.1', ' \"species\": \"versicolor\"}', ''], ['  {\"sepalLength\": 5.7', ' \"sepalWidth\": 2.8', ' \"petalLength\": 4.1', ' \"petalWidth\": 1.3', ' \"species\": \"versicolor\"}', ''], ['  {\"sepalLength\": 6.3', ' \"sepalWidth\": 3.3', ' \"petalLength\": 6.0', ' \"petalWidth\": 2.5', ' \"species\": \"virginica\"}', ''], ['  {\"sepalLength\": 5.8', ' \"sepalWidth\": 2.7', ' \"petalLength\": 5.1', ' \"petalWidth\": 1.9', ' \"species\": \"virginica\"}', ''], ['  {\"sepalLength\": 7.1', ' \"sepalWidth\": 3.0', ' \"petalLength\": 5.9', ' \"petalWidth\": 2.1', ' \"species\": \"virginica\"}', ''], ['  {\"sepalLength\": 6.3', ' \"sepalWidth\": 2.9', ' \"petalLength\": 5.6', ' \"petalWidth\": 1.8', ' \"species\": \"virginica\"}', ''], ['  {\"sepalLength\": 6.5', ' \"sepalWidth\": 3.0', ' \"petalLength\": 5.8', ' \"petalWidth\": 2.2', ' \"species\": \"virginica\"}', ''], ['  {\"sepalLength\": 7.6', ' \"sepalWidth\": 3.0', ' \"petalLength\": 6.6', ' \"petalWidth\": 2.1', ' \"species\": \"virginica\"}', ''], ['  {\"sepalLength\": 4.9', ' \"sepalWidth\": 2.5', ' \"petalLength\": 4.5', ' \"petalWidth\": 1.7', ' \"species\": \"virginica\"}', ''], ['  {\"sepalLength\": 7.3', ' \"sepalWidth\": 2.9', ' \"petalLength\": 6.3', ' \"petalWidth\": 1.8', ' \"species\": \"virginica\"}', ''], ['  {\"sepalLength\": 6.7', ' \"sepalWidth\": 2.5', ' \"petalLength\": 5.8', ' \"petalWidth\": 1.8', ' \"species\": \"virginica\"}', ''], ['  {\"sepalLength\": 7.2', ' \"sepalWidth\": 3.6', ' \"petalLength\": 6.1', ' \"petalWidth\": 2.5', ' \"species\": \"virginica\"}', ''], ['  {\"sepalLength\": 6.5', ' \"sepalWidth\": 3.2', ' \"petalLength\": 5.1', ' \"petalWidth\": 2.0', ' \"species\": \"virginica\"}', ''], ['  {\"sepalLength\": 6.4', ' \"sepalWidth\": 2.7', ' \"petalLength\": 5.3', ' \"petalWidth\": 1.9', ' \"species\": \"virginica\"}', ''], ['  {\"sepalLength\": 6.8', ' \"sepalWidth\": 3.0', ' \"petalLength\": 5.5', ' \"petalWidth\": 2.1', ' \"species\": \"virginica\"}', ''], ['  {\"sepalLength\": 5.7', ' \"sepalWidth\": 2.5', ' \"petalLength\": 5.0', ' \"petalWidth\": 2.0', ' \"species\": \"virginica\"}', ''], ['  {\"sepalLength\": 5.8', ' \"sepalWidth\": 2.8', ' \"petalLength\": 5.1', ' \"petalWidth\": 2.4', ' \"species\": \"virginica\"}', ''], ['  {\"sepalLength\": 6.4', ' \"sepalWidth\": 3.2', ' \"petalLength\": 5.3', ' \"petalWidth\": 2.3', ' \"species\": \"virginica\"}', ''], ['  {\"sepalLength\": 6.5', ' \"sepalWidth\": 3.0', ' \"petalLength\": 5.5', ' \"petalWidth\": 1.8', ' \"species\": \"virginica\"}', ''], ['  {\"sepalLength\": 7.7', ' \"sepalWidth\": 3.8', ' \"petalLength\": 6.7', ' \"petalWidth\": 2.2', ' \"species\": \"virginica\"}', ''], ['  {\"sepalLength\": 7.7', ' \"sepalWidth\": 2.6', ' \"petalLength\": 6.9', ' \"petalWidth\": 2.3', ' \"species\": \"virginica\"}', ''], ['  {\"sepalLength\": 6.0', ' \"sepalWidth\": 2.2', ' \"petalLength\": 5.0', ' \"petalWidth\": 1.5', ' \"species\": \"virginica\"}', ''], ['  {\"sepalLength\": 6.9', ' \"sepalWidth\": 3.2', ' \"petalLength\": 5.7', ' \"petalWidth\": 2.3', ' \"species\": \"virginica\"}', ''], ['  {\"sepalLength\": 5.6', ' \"sepalWidth\": 2.8', ' \"petalLength\": 4.9', ' \"petalWidth\": 2.0', ' \"species\": \"virginica\"}', ''], ['  {\"sepalLength\": 7.7', ' \"sepalWidth\": 2.8', ' \"petalLength\": 6.7', ' \"petalWidth\": 2.0', ' \"species\": \"virginica\"}', ''], ['  {\"sepalLength\": 6.3', ' \"sepalWidth\": 2.7', ' \"petalLength\": 4.9', ' \"petalWidth\": 1.8', ' \"species\": \"virginica\"}', ''], ['  {\"sepalLength\": 6.7', ' \"sepalWidth\": 3.3', ' \"petalLength\": 5.7', ' \"petalWidth\": 2.1', ' \"species\": \"virginica\"}', ''], ['  {\"sepalLength\": 7.2', ' \"sepalWidth\": 3.2', ' \"petalLength\": 6.0', ' \"petalWidth\": 1.8', ' \"species\": \"virginica\"}', ''], ['  {\"sepalLength\": 6.2', ' \"sepalWidth\": 2.8', ' \"petalLength\": 4.8', ' \"petalWidth\": 1.8', ' \"species\": \"virginica\"}', ''], ['  {\"sepalLength\": 6.1', ' \"sepalWidth\": 3.0', ' \"petalLength\": 4.9', ' \"petalWidth\": 1.8', ' \"species\": \"virginica\"}', ''], ['  {\"sepalLength\": 6.4', ' \"sepalWidth\": 2.8', ' \"petalLength\": 5.6', ' \"petalWidth\": 2.1', ' \"species\": \"virginica\"}', ''], ['  {\"sepalLength\": 7.2', ' \"sepalWidth\": 3.0', ' \"petalLength\": 5.8', ' \"petalWidth\": 1.6', ' \"species\": \"virginica\"}', ''], ['  {\"sepalLength\": 7.4', ' \"sepalWidth\": 2.8', ' \"petalLength\": 6.1', ' \"petalWidth\": 1.9', ' \"species\": \"virginica\"}', ''], ['  {\"sepalLength\": 7.9', ' \"sepalWidth\": 3.8', ' \"petalLength\": 6.4', ' \"petalWidth\": 2.0', ' \"species\": \"virginica\"}', ''], ['  {\"sepalLength\": 6.4', ' \"sepalWidth\": 2.8', ' \"petalLength\": 5.6', ' \"petalWidth\": 2.2', ' \"species\": \"virginica\"}', ''], ['  {\"sepalLength\": 6.3', ' \"sepalWidth\": 2.8', ' \"petalLength\": 5.1', ' \"petalWidth\": 1.5', ' \"species\": \"virginica\"}', ''], ['  {\"sepalLength\": 6.1', ' \"sepalWidth\": 2.6', ' \"petalLength\": 5.6', ' \"petalWidth\": 1.4', ' \"species\": \"virginica\"}', ''], ['  {\"sepalLength\": 7.7', ' \"sepalWidth\": 3.0', ' \"petalLength\": 6.1', ' \"petalWidth\": 2.3', ' \"species\": \"virginica\"}', ''], ['  {\"sepalLength\": 6.3', ' \"sepalWidth\": 3.4', ' \"petalLength\": 5.6', ' \"petalWidth\": 2.4', ' \"species\": \"virginica\"}', ''], ['  {\"sepalLength\": 6.4', ' \"sepalWidth\": 3.1', ' \"petalLength\": 5.5', ' \"petalWidth\": 1.8', ' \"species\": \"virginica\"}', ''], ['  {\"sepalLength\": 6.0', ' \"sepalWidth\": 3.0', ' \"petalLength\": 4.8', ' \"petalWidth\": 1.8', ' \"species\": \"virginica\"}', ''], ['  {\"sepalLength\": 6.9', ' \"sepalWidth\": 3.1', ' \"petalLength\": 5.4', ' \"petalWidth\": 2.1', ' \"species\": \"virginica\"}', ''], ['  {\"sepalLength\": 6.7', ' \"sepalWidth\": 3.1', ' \"petalLength\": 5.6', ' \"petalWidth\": 2.4', ' \"species\": \"virginica\"}', ''], ['  {\"sepalLength\": 6.9', ' \"sepalWidth\": 3.1', ' \"petalLength\": 5.1', ' \"petalWidth\": 2.3', ' \"species\": \"virginica\"}', ''], ['  {\"sepalLength\": 5.8', ' \"sepalWidth\": 2.7', ' \"petalLength\": 5.1', ' \"petalWidth\": 1.9', ' \"species\": \"virginica\"}', ''], ['  {\"sepalLength\": 6.8', ' \"sepalWidth\": 3.2', ' \"petalLength\": 5.9', ' \"petalWidth\": 2.3', ' \"species\": \"virginica\"}', ''], ['  {\"sepalLength\": 6.7', ' \"sepalWidth\": 3.3', ' \"petalLength\": 5.7', ' \"petalWidth\": 2.5', ' \"species\": \"virginica\"}', ''], ['  {\"sepalLength\": 6.7', ' \"sepalWidth\": 3.0', ' \"petalLength\": 5.2', ' \"petalWidth\": 2.3', ' \"species\": \"virginica\"}', ''], ['  {\"sepalLength\": 6.3', ' \"sepalWidth\": 2.5', ' \"petalLength\": 5.0', ' \"petalWidth\": 1.9', ' \"species\": \"virginica\"}', ''], ['  {\"sepalLength\": 6.5', ' \"sepalWidth\": 3.0', ' \"petalLength\": 5.2', ' \"petalWidth\": 2.0', ' \"species\": \"virginica\"}', ''], ['  {\"sepalLength\": 6.2', ' \"sepalWidth\": 3.4', ' \"petalLength\": 5.4', ' \"petalWidth\": 2.3', ' \"species\": \"virginica\"}', ''], ['  {\"sepalLength\": 5.9', ' \"sepalWidth\": 3.0', ' \"petalLength\": 5.1', ' \"petalWidth\": 1.8', ' \"species\": \"virginica\"}'], [']']]\n"
     ]
    }
   ],
   "source": [
    "print(data)"
   ]
  },
  {
   "cell_type": "code",
   "execution_count": 22,
   "id": "8d54aa10",
   "metadata": {},
   "outputs": [],
   "source": [
    "nombre_enregistrement = len(data)"
   ]
  },
  {
   "cell_type": "code",
   "execution_count": 23,
   "id": "442bc725",
   "metadata": {},
   "outputs": [
    {
     "name": "stdout",
     "output_type": "stream",
     "text": [
      "150\n"
     ]
    }
   ],
   "source": [
    "print(nombre_enregistrement)"
   ]
  },
  {
   "cell_type": "code",
   "execution_count": 38,
   "id": "90543eba",
   "metadata": {},
   "outputs": [
    {
     "name": "stdout",
     "output_type": "stream",
     "text": [
      "{'virginica', 'versicolor', 'setosa'}\n"
     ]
    }
   ],
   "source": [
    "species_value = {species['species'] for species in data}\n",
    "print(species_value)"
   ]
  },
  {
   "cell_type": "code",
   "execution_count": 31,
   "id": "e1437776",
   "metadata": {},
   "outputs": [],
   "source": [
    "species_values = set([species['species'] for species in data])"
   ]
  },
  {
   "cell_type": "code",
   "execution_count": 33,
   "id": "a6f9d750",
   "metadata": {},
   "outputs": [
    {
     "name": "stdout",
     "output_type": "stream",
     "text": [
      "{'virginica', 'versicolor', 'setosa'}\n"
     ]
    }
   ],
   "source": [
    "print(species_values)"
   ]
  },
  {
   "cell_type": "code",
   "execution_count": 40,
   "id": "9ce861d5",
   "metadata": {},
   "outputs": [
    {
     "data": {
      "text/plain": [
       "{'virginica': 0, 'versicolor': 0, 'setosa': 0}"
      ]
     },
     "execution_count": 40,
     "metadata": {},
     "output_type": "execute_result"
    }
   ],
   "source": [
    "d = {s:0 for s in species_values}\n",
    "d"
   ]
  },
  {
   "cell_type": "code",
   "execution_count": null,
   "id": "735a6d84",
   "metadata": {},
   "outputs": [],
   "source": [
    "for s in [fleur['species'] for fleur in ]"
   ]
  }
 ],
 "metadata": {
  "kernelspec": {
   "display_name": "Python 3 (ipykernel)",
   "language": "python",
   "name": "python3"
  },
  "language_info": {
   "codemirror_mode": {
    "name": "ipython",
    "version": 3
   },
   "file_extension": ".py",
   "mimetype": "text/x-python",
   "name": "python",
   "nbconvert_exporter": "python",
   "pygments_lexer": "ipython3",
   "version": "3.11.5"
  }
 },
 "nbformat": 4,
 "nbformat_minor": 5
}
