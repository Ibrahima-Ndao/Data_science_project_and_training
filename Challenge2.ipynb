{
 "cells": [
  {
   "cell_type": "markdown",
   "id": "6be096b8",
   "metadata": {},
   "source": [
    "# Lire le fichier dans une liste"
   ]
  },
  {
   "cell_type": "markdown",
   "id": "da66f567",
   "metadata": {},
   "source": [
    "## Énoncer"
   ]
  },
  {
   "cell_type": "markdown",
   "id": "72871a01",
   "metadata": {},
   "source": [
    "### . Lire le fichier 'unisex_names.csv'\n",
    "### . Assigner cette caractère a la variable names\n",
    "### . Convertir names en liste\n",
    "### . Assigner le résultat  a la variable names_list\n",
    "### . Afficher les 10 prémière élément"
   ]
  },
  {
   "cell_type": "code",
   "execution_count": 2,
   "id": "215f5bb9",
   "metadata": {},
   "outputs": [
    {
     "name": "stdout",
     "output_type": "stream",
     "text": [
      "['Casey,176544.328149', 'Riley,154860.665173', 'Jessie,136381.830656', 'Jackie,132928.78874', 'Avery,121797.419516', 'Jaime,109870.18729', 'Peyton,94896.395216', 'Kerry,88963.92625', 'Jody,80400.519199', 'Kendall,79210.873961']\n"
     ]
    }
   ],
   "source": [
    "names = open('Data/unisex_names.csv','r').read()\n",
    "names_list = names.split('\\n')\n",
    "print(names_list[0:10])"
   ]
  },
  {
   "cell_type": "markdown",
   "id": "c9a1db32",
   "metadata": {},
   "source": [
    "---"
   ]
  },
  {
   "cell_type": "markdown",
   "id": "c1d1f7c9",
   "metadata": {},
   "source": [
    "# Convertir la liste en liste de listes"
   ]
  },
  {
   "cell_type": "markdown",
   "id": "2ece7961",
   "metadata": {},
   "source": [
    "### . Créer une liste names_data\n",
    "### . Écrire une boucle qui convertit notre liste en liste de listes"
   ]
  },
  {
   "cell_type": "code",
   "execution_count": 9,
   "id": "f540b136",
   "metadata": {},
   "outputs": [
    {
     "name": "stdout",
     "output_type": "stream",
     "text": [
      "[['Casey', '176544.328149'], ['Riley', '154860.665173'], ['Jessie', '136381.830656'], ['Jackie', '132928.78874'], ['Avery', '121797.419516']]\n"
     ]
    }
   ],
   "source": [
    "names_data = []\n",
    "for row in names_list:\n",
    "    name = row.split(',')\n",
    "    names_data.append(name)\n",
    "print(names_data[0:5])"
   ]
  },
  {
   "cell_type": "markdown",
   "id": "483ab7a9",
   "metadata": {},
   "source": [
    "---"
   ]
  },
  {
   "cell_type": "markdown",
   "id": "9fc2b60c",
   "metadata": {},
   "source": [
    "# Convertir les valeurs numériques"
   ]
  },
  {
   "cell_type": "markdown",
   "id": "7b3aa069",
   "metadata": {},
   "source": [
    "### . Créer une nouvelle liste numerical_list\n",
    "### . Écrire une boucle qui vonvertit les nombres en nombres décimaux"
   ]
  },
  {
   "cell_type": "code",
   "execution_count": 30,
   "id": "aa8b48db",
   "metadata": {},
   "outputs": [
    {
     "name": "stdout",
     "output_type": "stream",
     "text": [
      "[['Casey', 176544.328149], ['Riley', 154860.665173], ['Jessie', 136381.830656], ['Jackie', 132928.78874], ['Avery', 121797.419516]]\n"
     ]
    }
   ],
   "source": [
    "numerical_list = []\n",
    "for name in names_data:\n",
    "    list = [name[0], float(name[1])]\n",
    "    numerical_list.append(list)\n",
    "print(numerical_list[0:5])"
   ]
  },
  {
   "cell_type": "markdown",
   "id": "1f2d9219",
   "metadata": {},
   "source": [
    "---"
   ]
  },
  {
   "cell_type": "markdown",
   "id": "70ac6b74",
   "metadata": {},
   "source": [
    "# Filtrer la liste"
   ]
  },
  {
   "cell_type": "markdown",
   "id": "3879a703",
   "metadata": {},
   "source": [
    "## Énoncé\n",
    "### . Créer une liste vide final_list\n",
    "### . Écrire une boucle qui conserve seulement les prénoms partagés par au moins 1000 personnes \n",
    "### . Afficher les 10 prémière éléments de final_list"
   ]
  },
  {
   "cell_type": "code",
   "execution_count": 36,
   "id": "36df1065",
   "metadata": {},
   "outputs": [
    {
     "name": "stdout",
     "output_type": "stream",
     "text": [
      "['Casey', 'Riley', 'Jessie', 'Jackie', 'Avery', 'Jaime', 'Peyton', 'Kerry', 'Jody', 'Kendall']\n"
     ]
    }
   ],
   "source": [
    "final_list = []\n",
    "for name in numerical_list:\n",
    "    value = name[1]\n",
    "    if value >= float(1000):\n",
    "        final_list.append(name[0])\n",
    "print(final_list[0:10])"
   ]
  },
  {
   "cell_type": "code",
   "execution_count": null,
   "id": "297a84ee",
   "metadata": {},
   "outputs": [],
   "source": []
  }
 ],
 "metadata": {
  "kernelspec": {
   "display_name": "Python 3 (ipykernel)",
   "language": "python",
   "name": "python3"
  },
  "language_info": {
   "codemirror_mode": {
    "name": "ipython",
    "version": 3
   },
   "file_extension": ".py",
   "mimetype": "text/x-python",
   "name": "python",
   "nbconvert_exporter": "python",
   "pygments_lexer": "ipython3",
   "version": "3.11.5"
  }
 },
 "nbformat": 4,
 "nbformat_minor": 5
}
