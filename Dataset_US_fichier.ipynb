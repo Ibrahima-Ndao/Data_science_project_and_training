{
 "cells": [
  {
   "cell_type": "markdown",
   "id": "6612e138",
   "metadata": {},
   "source": [
    "## Fonction pour ouvrire et lire le dataset "
   ]
  },
  {
   "cell_type": "code",
   "execution_count": 172,
   "id": "c0f33100",
   "metadata": {},
   "outputs": [],
   "source": [
    "def open_files(path):\n",
    "    f = open(path, 'r').read()\n",
    "    data = f.split('\\n')\n",
    "    return data"
   ]
  },
  {
   "cell_type": "code",
   "execution_count": 176,
   "id": "1df9ff6c",
   "metadata": {},
   "outputs": [],
   "source": [
    "data = open_files('Data/US_births_2000-2014.csv')"
   ]
  },
  {
   "cell_type": "code",
   "execution_count": 189,
   "id": "9777442f",
   "metadata": {},
   "outputs": [
    {
     "name": "stdout",
     "output_type": "stream",
     "text": [
      "['year,month,date_of_month,day_of_week,births', '2000,1,1,6,9083', '2000,1,2,7,8006', '2000,1,3,1,11363', '2000,1,4,2,13032', '2000,1,5,3,12558', '2000,1,6,4,12466', '2000,1,7,5,12516', '2000,1,8,6,8934', '2000,1,9,7,7949']\n"
     ]
    }
   ],
   "source": [
    "print(data[0:10])"
   ]
  },
  {
   "cell_type": "markdown",
   "id": "f44fd451",
   "metadata": {},
   "source": [
    "## Création d'une fonction pour transformer le dataset en liste de liste en convertissant les valeurs en entier"
   ]
  },
  {
   "cell_type": "code",
   "execution_count": 178,
   "id": "ae5ce0ee",
   "metadata": {},
   "outputs": [],
   "source": [
    "def read_csv():\n",
    "    list_data = data[1:]\n",
    "    data_births_list = []\n",
    "    for birth in list_data:\n",
    "        int_field = []\n",
    "        birth_list = birth.split(',')\n",
    "        for row in birth_list:\n",
    "            int_field.append(int(row))\n",
    "        data_births_list.append(int_field)\n",
    "    return data_births_list"
   ]
  },
  {
   "cell_type": "code",
   "execution_count": 179,
   "id": "aaff3114",
   "metadata": {},
   "outputs": [],
   "source": [
    "us_birth_list = read_csv()"
   ]
  },
  {
   "cell_type": "code",
   "execution_count": 188,
   "id": "73fc8204",
   "metadata": {},
   "outputs": [
    {
     "name": "stdout",
     "output_type": "stream",
     "text": [
      "[[2000, 1, 1, 6, 9083], [2000, 1, 2, 7, 8006], [2000, 1, 3, 1, 11363], [2000, 1, 4, 2, 13032], [2000, 1, 5, 3, 12558], [2000, 1, 6, 4, 12466], [2000, 1, 7, 5, 12516], [2000, 1, 8, 6, 8934], [2000, 1, 9, 7, 7949], [2000, 1, 10, 1, 11668]]\n"
     ]
    }
   ],
   "source": [
    "print(us_birth_list[0:10])"
   ]
  },
  {
   "cell_type": "markdown",
   "id": "0a76856e",
   "metadata": {},
   "source": [
    "## Calculons le nombre de naissance par mois "
   ]
  },
  {
   "cell_type": "code",
   "execution_count": 181,
   "id": "db350f4c",
   "metadata": {},
   "outputs": [],
   "source": [
    "def month_birth():\n",
    "    dict_birth = {}\n",
    "    for birth in us_birth_list:\n",
    "        if birth[1] in dict_birth:\n",
    "            dict_birth[birth[1]] += birth[4]\n",
    "        else:\n",
    "            dict_birth[birth[1]] = birth[4]\n",
    "    return dict_birth"
   ]
  },
  {
   "cell_type": "code",
   "execution_count": 183,
   "id": "53f79118",
   "metadata": {},
   "outputs": [
    {
     "data": {
      "text/plain": [
       "{1: 5072588,\n",
       " 2: 4725693,\n",
       " 3: 5172961,\n",
       " 4: 4960750,\n",
       " 5: 5195445,\n",
       " 6: 5163360,\n",
       " 7: 5450418,\n",
       " 8: 5540170,\n",
       " 9: 5399592,\n",
       " 10: 5302865,\n",
       " 11: 5008750,\n",
       " 12: 5194432}"
      ]
     },
     "execution_count": 183,
     "metadata": {},
     "output_type": "execute_result"
    }
   ],
   "source": [
    "month_birth()"
   ]
  },
  {
   "cell_type": "markdown",
   "id": "68711b7d",
   "metadata": {},
   "source": [
    "## Le nombre de naissance par jour de la semaine"
   ]
  },
  {
   "cell_type": "code",
   "execution_count": 186,
   "id": "3e18d75a",
   "metadata": {},
   "outputs": [],
   "source": [
    "def day_births():\n",
    "    births_dict = {}\n",
    "    for days in us_birth_list:\n",
    "        days_week = days[3]\n",
    "        births = days[4]\n",
    "        if days_week in births_dict:\n",
    "            births_dict[days_week] += births\n",
    "        else:\n",
    "            births_dict[days_week] = births\n",
    "    return births_dict"
   ]
  },
  {
   "cell_type": "code",
   "execution_count": 202,
   "id": "868fa533",
   "metadata": {},
   "outputs": [
    {
     "name": "stdout",
     "output_type": "stream",
     "text": [
      "{6: 6704495, 7: 5886889, 1: 9316001, 2: 10274874, 3: 10109130, 4: 10045436, 5: 9850199}\n"
     ]
    }
   ],
   "source": [
    "us_days_births = day_births()\n",
    "\n",
    "print(us_days_births)"
   ]
  },
  {
   "cell_type": "code",
   "execution_count": 203,
   "id": "dffbc910",
   "metadata": {},
   "outputs": [],
   "source": [
    "def clacs_count(column):\n",
    "    births_dict = {}\n",
    "    for days in us_birth_list:\n",
    "        days_week = days[column]\n",
    "        births = days[4]\n",
    "        if days_week in births_dict:\n",
    "            births_dict[days_week] += births\n",
    "        else:\n",
    "            births_dict[days_week] = births\n",
    "    return births_dict"
   ]
  },
  {
   "cell_type": "code",
   "execution_count": 207,
   "id": "312a0e99",
   "metadata": {},
   "outputs": [
    {
     "data": {
      "text/plain": [
       "{2000: 4149598,\n",
       " 2001: 4110963,\n",
       " 2002: 4099313,\n",
       " 2003: 4163060,\n",
       " 2004: 4186863,\n",
       " 2005: 4211941,\n",
       " 2006: 4335154,\n",
       " 2007: 4380784,\n",
       " 2008: 4310737,\n",
       " 2009: 4190991,\n",
       " 2010: 4055975,\n",
       " 2011: 4006908,\n",
       " 2012: 4000868,\n",
       " 2013: 3973337,\n",
       " 2014: 4010532}"
      ]
     },
     "execution_count": 207,
     "metadata": {},
     "output_type": "execute_result"
    }
   ],
   "source": [
    "clacs_count(0)"
   ]
  },
  {
   "cell_type": "code",
   "execution_count": null,
   "id": "b151f69f",
   "metadata": {},
   "outputs": [],
   "source": []
  }
 ],
 "metadata": {
  "kernelspec": {
   "display_name": "Python 3 (ipykernel)",
   "language": "python",
   "name": "python3"
  },
  "language_info": {
   "codemirror_mode": {
    "name": "ipython",
    "version": 3
   },
   "file_extension": ".py",
   "mimetype": "text/x-python",
   "name": "python",
   "nbconvert_exporter": "python",
   "pygments_lexer": "ipython3",
   "version": "3.11.5"
  }
 },
 "nbformat": 4,
 "nbformat_minor": 5
}
