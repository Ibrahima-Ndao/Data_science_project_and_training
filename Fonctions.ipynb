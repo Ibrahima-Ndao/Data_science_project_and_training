{
 "cells": [
  {
   "cell_type": "markdown",
   "id": "30de3adb",
   "metadata": {},
   "source": [
    "# Exercice 2 :\n",
    " Soit une chaine de caractères,écrire un algorithme récursif permettant de déterminer salongueur"
   ]
  },
  {
   "cell_type": "code",
   "execution_count": null,
   "id": "01fb2bc0",
   "metadata": {},
   "outputs": [],
   "source": []
  },
  {
   "cell_type": "markdown",
   "id": "6290f76b",
   "metadata": {},
   "source": [
    "# Exercice 3 :\n",
    "Écrire une fonction récursive qui permet de déterminer le minimum dans une liste."
   ]
  },
  {
   "cell_type": "markdown",
   "id": "59d8f62f",
   "metadata": {},
   "source": [
    "# Exercice :\n",
    "Écrire une fonction récursive qui permet de voir si une séquence est bien de l'ADN"
   ]
  },
  {
   "cell_type": "code",
   "execution_count": null,
   "id": "e2716a84",
   "metadata": {},
   "outputs": [],
   "source": []
  },
  {
   "cell_type": "markdown",
   "id": "1c410991",
   "metadata": {},
   "source": [
    "# Exercice 5 :\n",
    "Créer une fonction récursive palindrome qui renvoie une valeur booléenne indiquant si une chaine de caractères passé en argument est un palindrome. Un palindrome est une chaine qui peut se lire indifféremment de gauche à droite ou de droite à gauche."
   ]
  },
  {
   "cell_type": "code",
   "execution_count": null,
   "id": "4a1ac6e0",
   "metadata": {},
   "outputs": [],
   "source": []
  },
  {
   "cell_type": "markdown",
   "id": "061bc17d",
   "metadata": {},
   "source": [
    "# Exercice 6 :\n",
    "Écrire u e fonction recursive qui permet de calculer somme S = 1 + 2 +......+n quelque soit n."
   ]
  },
  {
   "cell_type": "code",
   "execution_count": null,
   "id": "d91b8c5f",
   "metadata": {},
   "outputs": [],
   "source": []
  },
  {
   "cell_type": "markdown",
   "id": "486498f1",
   "metadata": {},
   "source": [
    "# Exercice 7 :\n",
    "$ f(x) = (2x^2+x) / x^3 $\n",
    "$$ E=M*C^2$$"
   ]
  },
  {
   "cell_type": "markdown",
   "id": "29d8447e",
   "metadata": {},
   "source": [
    "$sqrt(9)$"
   ]
  },
  {
   "cell_type": "code",
   "execution_count": 9,
   "id": "eaba0611",
   "metadata": {},
   "outputs": [
    {
     "name": "stdout",
     "output_type": "stream",
     "text": [
      "Hello\n"
     ]
    }
   ],
   "source": [
    "greeting = lambda say_hello:print(say_hello)\n",
    "greeting('Hello')"
   ]
  },
  {
   "cell_type": "code",
   "execution_count": 11,
   "id": "319aaa48",
   "metadata": {},
   "outputs": [
    {
     "name": "stdout",
     "output_type": "stream",
     "text": [
      "15\n"
     ]
    }
   ],
   "source": [
    "sum = lambda a, b:a+b\n",
    "greeting(sum(12, 3))"
   ]
  },
  {
   "cell_type": "code",
   "execution_count": 8,
   "id": "ae5df064",
   "metadata": {},
   "outputs": [
    {
     "name": "stdout",
     "output_type": "stream",
     "text": [
      "10.0\n"
     ]
    }
   ],
   "source": [
    "div = lambda x, y: x/y\n",
    "print(div(20, 2))"
   ]
  },
  {
   "cell_type": "code",
   "execution_count": null,
   "id": "46cd1e49",
   "metadata": {},
   "outputs": [],
   "source": []
  }
 ],
 "metadata": {
  "kernelspec": {
   "display_name": "Python 3 (ipykernel)",
   "language": "python",
   "name": "python3"
  },
  "language_info": {
   "codemirror_mode": {
    "name": "ipython",
    "version": 3
   },
   "file_extension": ".py",
   "mimetype": "text/x-python",
   "name": "python",
   "nbconvert_exporter": "python",
   "pygments_lexer": "ipython3",
   "version": "3.12.0"
  }
 },
 "nbformat": 4,
 "nbformat_minor": 5
}
