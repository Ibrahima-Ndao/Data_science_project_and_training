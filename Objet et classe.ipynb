{
 "cells": [
  {
   "cell_type": "markdown",
   "id": "37e5c4c3",
   "metadata": {},
   "source": [
    "# Objet & Classe"
   ]
  },
  {
   "cell_type": "markdown",
   "id": "d6f8c5af",
   "metadata": {},
   "source": [
    "### Les methodes d'instance"
   ]
  },
  {
   "cell_type": "code",
   "execution_count": 4,
   "id": "c0bf9047",
   "metadata": {},
   "outputs": [
    {
     "name": "stdout",
     "output_type": "stream",
     "text": [
      "Toyota\n"
     ]
    }
   ],
   "source": [
    "class car:\n",
    "    def __init__(self, name):\n",
    "        self.name = name\n",
    "    \n",
    "    \n",
    "    def show_car(self):\n",
    "        print(self.name)\n",
    "        \n",
    "c = car('Toyota')\n",
    "c.show_car()"
   ]
  },
  {
   "cell_type": "code",
   "execution_count": 17,
   "id": "a65f387e",
   "metadata": {},
   "outputs": [],
   "source": [
    "import csv\n",
    "\n",
    "class team:\n",
    "    \n",
    "    def __init__(self, name):\n",
    "        self.name = name\n",
    "        with open('Data/nfl.csv', 'r') as f:\n",
    "            reader = csv.reader(f)\n",
    "            self.file = list(reader)\n",
    "    def win_num(self):\n",
    "        cpt = 0\n",
    "        for row in self.file:\n",
    "            if row[2] == self.name:\n",
    "                cpt += 1\n",
    "        return cpt"
   ]
  },
  {
   "cell_type": "code",
   "execution_count": 18,
   "id": "bd00fb35",
   "metadata": {},
   "outputs": [],
   "source": [
    "t1 = team('San Francisco 49ers') "
   ]
  },
  {
   "cell_type": "code",
   "execution_count": 19,
   "id": "68c7abd8",
   "metadata": {},
   "outputs": [
    {
     "data": {
      "text/plain": [
       "51"
      ]
     },
     "execution_count": 19,
     "metadata": {},
     "output_type": "execute_result"
    }
   ],
   "source": [
    "t1.win_num()"
   ]
  },
  {
   "cell_type": "markdown",
   "id": "8ee6e4ea",
   "metadata": {},
   "source": [
    "### Nombre de victoire sur une année"
   ]
  },
  {
   "cell_type": "code",
   "execution_count": 21,
   "id": "d5758d33",
   "metadata": {},
   "outputs": [
    {
     "data": {
      "text/plain": [
       "12"
      ]
     },
     "execution_count": 21,
     "metadata": {},
     "output_type": "execute_result"
    }
   ],
   "source": [
    "class team:\n",
    "    \n",
    "    def __init__(self, name, year):\n",
    "        self.name = name\n",
    "        self.year = year\n",
    "        with open('Data/nfl.csv', 'r') as f:\n",
    "            reader = csv.reader(f)\n",
    "            self.file = list(reader)\n",
    "    def win_num(self):\n",
    "        cpt = 0\n",
    "        for row in self.file:\n",
    "            if row[2] == self.name and int(row[0]) == self.year:\n",
    "                cpt += 1\n",
    "        return cpt\n",
    "\n",
    "t2 = team('San Francisco 49ers', 2012)\n",
    "t2.win_num()"
   ]
  },
  {
   "cell_type": "code",
   "execution_count": null,
   "id": "44f56186",
   "metadata": {},
   "outputs": [],
   "source": []
  }
 ],
 "metadata": {
  "kernelspec": {
   "display_name": "Python 3 (ipykernel)",
   "language": "python",
   "name": "python3"
  },
  "language_info": {
   "codemirror_mode": {
    "name": "ipython",
    "version": 3
   },
   "file_extension": ".py",
   "mimetype": "text/x-python",
   "name": "python",
   "nbconvert_exporter": "python",
   "pygments_lexer": "ipython3",
   "version": "3.11.5"
  }
 },
 "nbformat": 4,
 "nbformat_minor": 5
}
