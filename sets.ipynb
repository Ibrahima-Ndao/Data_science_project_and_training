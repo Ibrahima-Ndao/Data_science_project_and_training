{
 "cells": [
  {
   "cell_type": "markdown",
   "id": "5573bd42",
   "metadata": {},
   "source": [
    "# Sets"
   ]
  },
  {
   "cell_type": "markdown",
   "id": "83a9bc90",
   "metadata": {},
   "source": [
    "### La fonction set() renvoi à partir d'une liste ordonnée les éléments unique de cette liste \n"
   ]
  },
  {
   "cell_type": "code",
   "execution_count": 1,
   "id": "1b331a45",
   "metadata": {},
   "outputs": [],
   "source": [
    "# Exemple :\n",
    "animals = ['lion', 'cat', 'Tigger', 'dog', 'lion', 'dog', 'bird', 'cat', 'dog']\n",
    "unique_animals = set(animals)"
   ]
  },
  {
   "cell_type": "code",
   "execution_count": 2,
   "id": "3a976b18",
   "metadata": {},
   "outputs": [
    {
     "name": "stdout",
     "output_type": "stream",
     "text": [
      "{'cat', 'lion', 'Tigger', 'bird', 'dog'}\n"
     ]
    }
   ],
   "source": [
    "print(unique_animals)"
   ]
  },
  {
   "cell_type": "code",
   "execution_count": 3,
   "id": "1eedf75f",
   "metadata": {},
   "outputs": [],
   "source": [
    "# on peut ajouter un élément dans un set\n",
    "unique_animals.add('elephone')"
   ]
  },
  {
   "cell_type": "markdown",
   "id": "d370ab46",
   "metadata": {},
   "source": [
    "unique_animals"
   ]
  },
  {
   "cell_type": "code",
   "execution_count": 4,
   "id": "9844dc5c",
   "metadata": {},
   "outputs": [],
   "source": [
    "# on peut aussi supprimer un élément\n",
    "unique_animals.remove('cat')"
   ]
  },
  {
   "cell_type": "code",
   "execution_count": 5,
   "id": "14fa00fb",
   "metadata": {},
   "outputs": [
    {
     "data": {
      "text/plain": [
       "{'Tigger', 'bird', 'dog', 'elephone', 'lion'}"
      ]
     },
     "execution_count": 5,
     "metadata": {},
     "output_type": "execute_result"
    }
   ],
   "source": [
    "unique_animals"
   ]
  },
  {
   "cell_type": "code",
   "execution_count": 6,
   "id": "eb465e9d",
   "metadata": {},
   "outputs": [],
   "source": [
    "# on peut également modifier le set en liste\n",
    "list_animals = list(unique_animals)"
   ]
  },
  {
   "cell_type": "code",
   "execution_count": 7,
   "id": "afb1bb0b",
   "metadata": {},
   "outputs": [
    {
     "data": {
      "text/plain": [
       "['lion', 'Tigger', 'elephone', 'bird', 'dog']"
      ]
     },
     "execution_count": 7,
     "metadata": {},
     "output_type": "execute_result"
    }
   ],
   "source": [
    "list_animals"
   ]
  },
  {
   "cell_type": "markdown",
   "id": "5ed56105",
   "metadata": {},
   "source": [
    "# Training 64 :"
   ]
  },
  {
   "cell_type": "markdown",
   "id": "6057fe6e",
   "metadata": {},
   "source": [
    "### 1. Lire le fichier ´´´legislators.csv´´´ et l'assigner à la variable legislators\n",
    "### 2. Extraire la colone gender et l'assigner à la liste gender\n",
    "### 3. Convertir cette liste en set\n",
    "### 4. Afficher la liste gender"
   ]
  },
  {
   "cell_type": "code",
   "execution_count": 8,
   "id": "4b0a0c2c",
   "metadata": {},
   "outputs": [],
   "source": [
    "import csv\n",
    "def list_gender(column):\n",
    "    genders = []\n",
    "    with open('Data\\legislators.csv', 'r') as f:\n",
    "        reader = csv.reader(f)\n",
    "        legislators = list(reader)\n",
    "        legislators = legislators[1:]\n",
    "    for legislator in legislators:\n",
    "        if legislator[column] == '':\n",
    "            genders.append(legislator[column])\n",
    "        genders.append(legislator[column])\n",
    "        gender = set(genders)\n",
    "    return list(gender)"
   ]
  },
  {
   "cell_type": "code",
   "execution_count": 9,
   "id": "1ec51766",
   "metadata": {},
   "outputs": [
    {
     "data": {
      "text/plain": [
       "['M', '', 'F']"
      ]
     },
     "execution_count": 9,
     "metadata": {},
     "output_type": "execute_result"
    }
   ],
   "source": [
    "list_gender(3)"
   ]
  },
  {
   "cell_type": "code",
   "execution_count": 10,
   "id": "eabb6714",
   "metadata": {},
   "outputs": [],
   "source": [
    "def party_politique(column):\n",
    "    genders = []\n",
    "    with open('Data\\legislators.csv', 'r') as f:\n",
    "        reader = csv.reader(f)\n",
    "        legislators = list(reader)\n",
    "        legislators = legislators[1:]\n",
    "    for legislator in legislators:\n",
    "        if not legislator[column] == '':\n",
    "            genders.append(legislator[column])\n",
    "        else:\n",
    "            genders.append('No! party')\n",
    "        gender = set(genders)\n",
    "    return list(gender)"
   ]
  },
  {
   "cell_type": "code",
   "execution_count": 11,
   "id": "5490a359",
   "metadata": {},
   "outputs": [
    {
     "data": {
      "text/plain": [
       "['Republican',\n",
       " 'Farmer-Labor',\n",
       " 'Anti Masonic',\n",
       " 'Ind. Whig',\n",
       " 'Democrat',\n",
       " 'States Rights',\n",
       " 'Pro-Administration',\n",
       " 'No! party',\n",
       " 'Jacksonian',\n",
       " 'Unionist',\n",
       " 'Unknown',\n",
       " 'Coalitionist',\n",
       " 'Adams',\n",
       " 'American',\n",
       " 'Federalist',\n",
       " 'Adams Democrat',\n",
       " 'Ind. Republican-Democrat',\n",
       " 'Progressive Republican',\n",
       " 'New Progressive',\n",
       " 'Free Silver',\n",
       " 'Whig',\n",
       " 'Ind. Republican',\n",
       " 'Anti-Administration',\n",
       " 'Liberal Republican',\n",
       " 'Conservative',\n",
       " 'Anti Jacksonian',\n",
       " 'Liberty',\n",
       " 'Independent Democrat',\n",
       " 'Unconditional Unionist',\n",
       " 'Socialist',\n",
       " 'Constitutional Unionist',\n",
       " 'Jackson',\n",
       " 'Democratic and Union Labor',\n",
       " 'National Greenbacker',\n",
       " 'Popular Democrat',\n",
       " 'Union Democrat',\n",
       " 'Democrat-Liberal',\n",
       " 'Silver Republican',\n",
       " 'Republican-Conservative',\n",
       " 'Populist',\n",
       " 'Prohibitionist',\n",
       " 'Conservative Republican',\n",
       " 'Free Soil',\n",
       " 'Union Labor',\n",
       " 'Jackson Republican',\n",
       " 'Law and Order',\n",
       " 'Democratic Republican',\n",
       " 'Ind. Democrat',\n",
       " 'Independent',\n",
       " 'Anti-Jacksonian',\n",
       " 'Anti-Lecompton Democrat',\n",
       " 'Crawford Republican',\n",
       " 'Readjuster Democrat',\n",
       " 'Readjuster',\n",
       " 'Progressive',\n",
       " 'Nullifier',\n",
       " 'Union',\n",
       " 'Nonpartisan',\n",
       " 'Anti Jackson',\n",
       " 'American Labor']"
      ]
     },
     "execution_count": 11,
     "metadata": {},
     "output_type": "execute_result"
    }
   ],
   "source": [
    "party_politique(6)"
   ]
  },
  {
   "cell_type": "markdown",
   "id": "9c9a9dc1",
   "metadata": {},
   "source": [
    "### Valeurs manquantes"
   ]
  },
  {
   "cell_type": "code",
   "execution_count": 12,
   "id": "18fe71b7",
   "metadata": {},
   "outputs": [],
   "source": [
    "def gender_VM(column):\n",
    "    genders = []\n",
    "    with open('Data\\legislators.csv', 'r') as f:\n",
    "        reader = csv.reader(f)\n",
    "        legislators = list(reader)\n",
    "        legislators = legislators[1:]\n",
    "    for legislator in legislators:\n",
    "        if legislator[column] == '':\n",
    "            legislator[column] = 'M'\n",
    "        genders.append(legislator[column])\n",
    "        gender = set(genders)\n",
    "    return list(gender)"
   ]
  },
  {
   "cell_type": "code",
   "execution_count": 13,
   "id": "714d88c0",
   "metadata": {},
   "outputs": [
    {
     "data": {
      "text/plain": [
       "['M', 'F']"
      ]
     },
     "execution_count": 13,
     "metadata": {},
     "output_type": "execute_result"
    }
   ],
   "source": [
    "gender_VM(3)"
   ]
  },
  {
   "cell_type": "markdown",
   "id": "396c5db4",
   "metadata": {},
   "source": [
    "### Analyse des années de naissance"
   ]
  },
  {
   "cell_type": "markdown",
   "id": "9e08b6d0",
   "metadata": {},
   "source": [
    "## Training :\n",
    "### . Créer une liste birth_years qui contiendra tous les années de naissance des politiques"
   ]
  },
  {
   "cell_type": "code",
   "execution_count": 14,
   "id": "465a85b3",
   "metadata": {},
   "outputs": [],
   "source": [
    "def years(column):\n",
    "    contain = []\n",
    "    with open('Data\\legislators.csv', 'r') as f:\n",
    "        reader = csv.reader(f)\n",
    "        legislators = list(reader)\n",
    "        legislators = legislators[1:]\n",
    "    for year in legislators:\n",
    "        contain.append(year[column]) \n",
    "    return contain"
   ]
  },
  {
   "cell_type": "code",
   "execution_count": 15,
   "id": "81eb368c",
   "metadata": {},
   "outputs": [],
   "source": [
    "birth_years = years(2)"
   ]
  },
  {
   "cell_type": "code",
   "execution_count": 16,
   "id": "0fcfec5c",
   "metadata": {},
   "outputs": [],
   "source": [
    "def birth_years_politique():\n",
    "    years = []\n",
    "    for year in birth_years:\n",
    "        years_list = year.split('-')\n",
    "        years.append(years_list)\n",
    "    yy = []\n",
    "    for row in years:\n",
    "        yy.append(row[0])\n",
    "    return yy"
   ]
  },
  {
   "cell_type": "code",
   "execution_count": 17,
   "id": "f892da64",
   "metadata": {},
   "outputs": [],
   "source": [
    "data = birth_years_politique()"
   ]
  },
  {
   "cell_type": "code",
   "execution_count": 18,
   "id": "e37555c8",
   "metadata": {},
   "outputs": [
    {
     "name": "stdout",
     "output_type": "stream",
     "text": [
      "['1745', '1742', '1743', '1730', '1739']\n"
     ]
    }
   ],
   "source": [
    "print(data[0:5])"
   ]
  },
  {
   "cell_type": "markdown",
   "id": "19b7e633",
   "metadata": {},
   "source": [
    "### try / except :"
   ]
  },
  {
   "cell_type": "code",
   "execution_count": 19,
   "id": "b91e1fcb",
   "metadata": {},
   "outputs": [
    {
     "name": "stdout",
     "output_type": "stream",
     "text": [
      "<class 'ValueError'>\n",
      "invalid literal for int() with base 10: ''\n"
     ]
    }
   ],
   "source": [
    "try:\n",
    "    int('')\n",
    "except Exception as exc:\n",
    "    print(type(exc))\n",
    "    print(str(exc))"
   ]
  },
  {
   "cell_type": "markdown",
   "id": "c1747f77",
   "metadata": {},
   "source": [
    "### Le mot clé pass"
   ]
  },
  {
   "cell_type": "code",
   "execution_count": 20,
   "id": "08c154c5",
   "metadata": {},
   "outputs": [
    {
     "name": "stdout",
     "output_type": "stream",
     "text": [
      "Il y'a une erreur\n",
      "Il y'a une erreur\n",
      "Il y'a une erreur\n",
      "Il y'a une erreur\n",
      "Il y'a une erreur\n"
     ]
    }
   ],
   "source": [
    "years = ['1745', '1742', '1743', '1730', '1739']\n",
    "for i in years:\n",
    "    try: \n",
    "        int('')\n",
    "    except Exception:\n",
    "        print('Il y\\'a une erreur')"
   ]
  },
  {
   "cell_type": "code",
   "execution_count": 21,
   "id": "cbd3947a",
   "metadata": {},
   "outputs": [
    {
     "ename": "SyntaxError",
     "evalue": "incomplete input (1465176123.py, line 5)",
     "output_type": "error",
     "traceback": [
      "\u001b[1;36m  Cell \u001b[1;32mIn[21], line 5\u001b[1;36m\u001b[0m\n\u001b[1;33m    except Exception:\u001b[0m\n\u001b[1;37m                     ^\u001b[0m\n\u001b[1;31mSyntaxError\u001b[0m\u001b[1;31m:\u001b[0m incomplete input\n"
     ]
    }
   ],
   "source": [
    "years = ['1745', '1742', '1743', '1730', '1739']\n",
    "for i in years:\n",
    "    try: \n",
    "        int('')\n",
    "    except Exception:"
   ]
  },
  {
   "cell_type": "markdown",
   "id": "8687c3b6",
   "metadata": {},
   "source": [
    "#### D'ou l'importance du mot clé pass le code exécutera sans signaler d'erreur"
   ]
  },
  {
   "cell_type": "code",
   "execution_count": null,
   "id": "cbc13251",
   "metadata": {},
   "outputs": [],
   "source": [
    "years = ['1745', '1742', '1743', '1730', '1739']\n",
    "for i in years:\n",
    "    try: \n",
    "        int('')\n",
    "    except Exception:\n",
    "        pass"
   ]
  },
  {
   "cell_type": "code",
   "execution_count": null,
   "id": "7b7896cb",
   "metadata": {},
   "outputs": [],
   "source": [
    "def birth_years_politique():\n",
    "    years = []\n",
    "    for year in birth_years:\n",
    "        years_list = year.split('-')\n",
    "        years.append(years_list)\n",
    "    yy = []\n",
    "    for row in years:\n",
    "        try:\n",
    "            yy.append(int(row[0]))\n",
    "        except Exception:\n",
    "            pass\n",
    "        \n",
    "    return yy"
   ]
  },
  {
   "cell_type": "code",
   "execution_count": null,
   "id": "b96e9c73",
   "metadata": {},
   "outputs": [],
   "source": [
    "int_birth = birth_years_politique()"
   ]
  },
  {
   "cell_type": "code",
   "execution_count": null,
   "id": "f5e502a7",
   "metadata": {},
   "outputs": [],
   "source": [
    "print(int_birth[0:30])"
   ]
  },
  {
   "cell_type": "code",
   "execution_count": null,
   "id": "e5289f29",
   "metadata": {},
   "outputs": [],
   "source": [
    "def convert_birth():\n",
    "    int_births = []\n",
    "    for row in data:\n",
    "        try:\n",
    "            row = int(row)\n",
    "        except Exception:\n",
    "            pass\n",
    "        int_births.append(row)\n",
    "    return int_births"
   ]
  },
  {
   "cell_type": "code",
   "execution_count": null,
   "id": "a53ae604",
   "metadata": {},
   "outputs": [],
   "source": [
    "print(convert_birth())"
   ]
  },
  {
   "cell_type": "markdown",
   "id": "76dfc0ab",
   "metadata": {},
   "source": [
    "### Training :\n",
    "- parcourir la liste de liste legislators\n",
    "    - récupérer l'année de naissance et l'assigner a birth_years\n",
    "    - Convertir l'année de naissance \n",
    "    - Si l'exception est levée, assigner 0 à birth_years\n",
    "    - ajouter chaque élément de birth_years à législators\n",
    "- Modifier le nom de l'entete de cette colonne apr birth_year.\n",
    "- Afficher le résultat\n"
   ]
  },
  {
   "cell_type": "code",
   "execution_count": 79,
   "id": "ad244895",
   "metadata": {},
   "outputs": [],
   "source": [
    "import csv\n",
    "with open('Data/legislators.csv', 'r') as f:\n",
    "    reader = csv.reader(f)\n",
    "    data = list(reader)"
   ]
  },
  {
   "cell_type": "code",
   "execution_count": 71,
   "id": "c173b294",
   "metadata": {},
   "outputs": [
    {
     "name": "stdout",
     "output_type": "stream",
     "text": [
      "['1745', '1742', '1743', '1730', '1739', '', '1738', '1745', '1748', '1734', '1756', '']\n"
     ]
    }
   ],
   "source": [
    "birth_year = []\n",
    "for row in data[1:]:\n",
    "    birth_year.append(row[2])\n",
    "births = []\n",
    "for row in birth_year:\n",
    "    births.append(row.split('-'))\n",
    "births_years = []\n",
    "for birth in births:\n",
    "    births_years.append(birth[0])\n",
    "print(births_years[0:12])"
   ]
  },
  {
   "cell_type": "code",
   "execution_count": 72,
   "id": "574f726a",
   "metadata": {},
   "outputs": [
    {
     "name": "stdout",
     "output_type": "stream",
     "text": [
      "[1745, 1742, 1743, 1730, 1739, 0, 1738, 1745, 1748, 1734, 1756, 0, 1737, 1754, 1736, 0, 1727, 1733, 1732]\n"
     ]
    }
   ],
   "source": [
    "birt = []\n",
    "for birth in births_years:\n",
    "    try: \n",
    "        row = int(birth)\n",
    "    except Exception:\n",
    "        row = 0\n",
    "        pass\n",
    "    birt.append(row)\n",
    "print(birt[0:19])"
   ]
  },
  {
   "cell_type": "code",
   "execution_count": 80,
   "id": "c16199e4",
   "metadata": {},
   "outputs": [
    {
     "name": "stdout",
     "output_type": "stream",
     "text": [
      "[['last_name', 'first_name', 'birthday', 'gender', 'type', 'state', 'party', 'birth_years'], ['Bassett', 'Richard', '1745-04-02', 'M', 'sen', 'DE', 'Anti-Administration', 1745], ['Bland', 'Theodorick', '1742-03-21', '', 'rep', 'VA', '', 1742], ['Burke', 'Aedanus', '1743-06-16', '', 'rep', 'SC', '', 1743], ['Carroll', 'Daniel', '1730-07-22', 'M', 'rep', 'MD', '', 1730], ['Clymer', 'George', '1739-03-16', 'M', 'rep', 'PA', '', 1739], ['Contee', 'Benjamin', '', 'M', 'rep', 'MD', '', 0], ['Dalton', 'Tristram', '1738-05-28', '', 'sen', 'MA', 'Pro-Administration', 1738], ['Elmer', 'Jonathan', '1745-11-29', 'M', 'sen', 'NJ', 'Pro-Administration', 1745], ['Few', 'William', '1748-06-08', 'M', 'sen', 'GA', 'Anti-Administration', 1748], ['Floyd', 'William', '1734-12-17', 'M', 'rep', 'NY', '', 1734], ['Gale', 'George', '1756-06-03', 'M', 'rep', 'MD', '', 1756], ['Grayson', 'William', '', 'M', 'sen', 'VA', 'Anti-Administration', 0], ['Grout', 'Jonathan', '1737-07-23', 'M', 'rep', 'MA', '', 1737], ['Hawkins', 'Benjamin', '1754-08-15', 'M', 'sen', 'NC', 'Pro-Administration', 1754], ['Huntington', 'Benjamin', '1736-04-19', 'M', 'rep', 'CT', '', 1736], ['Izard', 'Ralph', '', 'M', 'sen', 'SC', 'Pro-Administration', 0], ['Johnson', 'William', '1727-10-07', 'M', 'sen', 'CT', 'Pro-Administration', 1727], ['Johnston', 'Samuel', '1733-12-15', 'M', 'sen', 'NC', 'Pro-Administration', 1733], ['Lee', 'Richard', '1732-01-20', 'M', 'sen', 'VA', 'Anti-Administration', 1732]]\n"
     ]
    }
   ],
   "source": [
    "for row in data:\n",
    "    birth = row[2]\n",
    "    birth_years = birth.split('-')[0]\n",
    "    try:\n",
    "        birth_year = int(birth_years)\n",
    "    except Exception:\n",
    "        birth_year = 0\n",
    "    row.append(birth_year)\n",
    "data[0][7] = 'birth_years'\n",
    "print(data[0:20])"
   ]
  },
  {
   "cell_type": "code",
   "execution_count": 75,
   "id": "2d20fe35",
   "metadata": {},
   "outputs": [
    {
     "name": "stdout",
     "output_type": "stream",
     "text": [
      "[['last_name', 'first_name', 'birthday', 'gender', 'type', 'state', 'party', 'birth_years'], ['Bassett', 'Richard', '1745-04-02', 'M', 'sen', 'DE', 'Anti-Administration', 1745], ['Bland', 'Theodorick', '1742-03-21', '', 'rep', 'VA', '', 1742], ['Burke', 'Aedanus', '1743-06-16', '', 'rep', 'SC', '', 1743], ['Carroll', 'Daniel', '1730-07-22', 'M', 'rep', 'MD', '', 1730], ['Clymer', 'George', '1739-03-16', 'M', 'rep', 'PA', '', 1739], ['Contee', 'Benjamin', '', 'M', 'rep', 'MD', '', 1739], ['Dalton', 'Tristram', '1738-05-28', '', 'sen', 'MA', 'Pro-Administration', 1738], ['Elmer', 'Jonathan', '1745-11-29', 'M', 'sen', 'NJ', 'Pro-Administration', 1745], ['Few', 'William', '1748-06-08', 'M', 'sen', 'GA', 'Anti-Administration', 1748], ['Floyd', 'William', '1734-12-17', 'M', 'rep', 'NY', '', 1734], ['Gale', 'George', '1756-06-03', 'M', 'rep', 'MD', '', 1756], ['Grayson', 'William', '', 'M', 'sen', 'VA', 'Anti-Administration', 1756], ['Grout', 'Jonathan', '1737-07-23', 'M', 'rep', 'MA', '', 1737], ['Hawkins', 'Benjamin', '1754-08-15', 'M', 'sen', 'NC', 'Pro-Administration', 1754], ['Huntington', 'Benjamin', '1736-04-19', 'M', 'rep', 'CT', '', 1736], ['Izard', 'Ralph', '', 'M', 'sen', 'SC', 'Pro-Administration', 1736], ['Johnson', 'William', '1727-10-07', 'M', 'sen', 'CT', 'Pro-Administration', 1727], ['Johnston', 'Samuel', '1733-12-15', 'M', 'sen', 'NC', 'Pro-Administration', 1733], ['Lee', 'Richard', '1732-01-20', 'M', 'sen', 'VA', 'Anti-Administration', 1732]]\n"
     ]
    }
   ],
   "source": [
    "last_year = 1\n",
    "for row in data:\n",
    "    if row[7] == 0:\n",
    "        row[7] = last_year\n",
    "    last_year = row[7]\n",
    "print(data[0:20])     "
   ]
  },
  {
   "cell_type": "code",
   "execution_count": 76,
   "id": "93f15107",
   "metadata": {},
   "outputs": [],
   "source": []
  },
  {
   "cell_type": "code",
   "execution_count": null,
   "id": "6bbfe8fd",
   "metadata": {},
   "outputs": [],
   "source": []
  },
  {
   "cell_type": "code",
   "execution_count": null,
   "id": "743257d5",
   "metadata": {},
   "outputs": [],
   "source": [
    "  "
   ]
  },
  {
   "cell_type": "code",
   "execution_count": null,
   "id": "637c0a27",
   "metadata": {},
   "outputs": [],
   "source": []
  }
 ],
 "metadata": {
  "kernelspec": {
   "display_name": "Python 3 (ipykernel)",
   "language": "python",
   "name": "python3"
  },
  "language_info": {
   "codemirror_mode": {
    "name": "ipython",
    "version": 3
   },
   "file_extension": ".py",
   "mimetype": "text/x-python",
   "name": "python",
   "nbconvert_exporter": "python",
   "pygments_lexer": "ipython3",
   "version": "3.11.5"
  }
 },
 "nbformat": 4,
 "nbformat_minor": 5
}
