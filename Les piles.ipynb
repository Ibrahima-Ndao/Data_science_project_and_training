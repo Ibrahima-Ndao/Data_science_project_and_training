{
 "cells": [
  {
   "cell_type": "markdown",
   "id": "0736acf0",
   "metadata": {},
   "source": [
    "# Les piles\n",
    "## I Définition:\n",
    "une pile est une structure de données linéaire dans la quelle toutes les opérations se font en un seul endroit: le sommet (ajouter et retrait d'éléments).\n",
    "Une pile repose sur la discipline LIFO (dernière arrivé, première extrait).\n",
    "### Les nombre d'opération dans une pile p est limité :\n",
    "#### - unitpile (p) : crée une pile vide\n",
    "#### - Empiler (p, x) : ajouter dans la pile p l'élément x au sommet de la pile p\n",
    "#### - pilevide(P) : qui renvoie la valeur vrai si la pile est vide et faux dans la cas contraire\n",
    "#### - Dépiler(p, x) : récupérer l'élément au sommet de la pile et le transférer dans x (si la pile n'est pas vide) pour un service.\n",
    "### Deux implémentation possible :\n",
    "#### - En utilisant les listes simplement chainées (option propre au développeur)\n",
    "#### - En utilisant les listes python (bibliothéque)\n",
    "## II Implémentation avec les listes (option propre):\n"
   ]
  },
  {
   "cell_type": "code",
   "execution_count": 2,
   "id": "d4445894",
   "metadata": {},
   "outputs": [],
   "source": [
    "class Egt:\n",
    "    def __init__(self, info):\n",
    "        self.info = info\n",
    "        self.next = None"
   ]
  },
  {
   "cell_type": "code",
   "execution_count": 3,
   "id": "7a7cf91e",
   "metadata": {},
   "outputs": [],
   "source": [
    "class Pile:\n",
    "    def __init__(self):\n",
    "        self.sommet = None\n",
    "    def pilevide(self):\n",
    "        if self.sommet == None:\n",
    "            return True\n",
    "        else:\n",
    "            return False\n",
    "    def empiler(self, x):\n",
    "        nouveau = Egt(x)\n",
    "        if self.pilevide()==True:\n",
    "            self.sommet = nouveau\n",
    "        else:\n",
    "            nouveau.next = self.sommet\n",
    "            self.sommet = nouveau\n",
    "    def depiler(self):\n",
    "        if self.pilevide() == True:\n",
    "            print('impossible de dépiler')\n",
    "        else:\n",
    "            x = self.sommet.info\n",
    "            print('Valeur dépiler : ', x)\n",
    "            if self.sommet.next == None:\n",
    "                self.sommet = None\n",
    "            else:\n",
    "                self.sommet = self.sommet.next"
   ]
  },
  {
   "cell_type": "code",
   "execution_count": 4,
   "id": "941f01c9",
   "metadata": {},
   "outputs": [
    {
     "name": "stdout",
     "output_type": "stream",
     "text": [
      "La pile est vide\n",
      "Valeur dépiler :  45\n",
      "Valeur dépiler :  20\n",
      "impossible de dépiler\n"
     ]
    }
   ],
   "source": [
    "def main():\n",
    "    p = Pile()\n",
    "    if p.pilevide() == True:\n",
    "        print('La pile est vide')\n",
    "    else:\n",
    "        print('Pile non vide')\n",
    "    p.empiler(20)\n",
    "    p.empiler(45)\n",
    "    p.depiler()\n",
    "    p.depiler()\n",
    "    p.depiler()\n",
    "main()"
   ]
  },
  {
   "cell_type": "markdown",
   "id": "21dd8d81",
   "metadata": {},
   "source": [
    "---\n",
    "## III Implémentation avec les listes python (bibliothéques) :"
   ]
  },
  {
   "cell_type": "code",
   "execution_count": 24,
   "id": "1172c885",
   "metadata": {},
   "outputs": [],
   "source": [
    "class Piles:\n",
    "    def __init__(self):\n",
    "        self.mapile = []\n",
    "        \n",
    "    def pilevides(self):\n",
    "        return len(self.mapile) == 0\n",
    "        \n",
    "    def empilers(self, x):\n",
    "        self.mapile.append(x)\n",
    "        \n",
    "    def depilers(self):\n",
    "        if self.pilevides():\n",
    "            print('impossible de dépiler')\n",
    "        else:\n",
    "            x = self.mapile.pop()\n",
    "            print('Valeur dépiler : ', x)\n",
    "            "
   ]
  },
  {
   "cell_type": "code",
   "execution_count": 25,
   "id": "3f852d59",
   "metadata": {},
   "outputs": [
    {
     "name": "stdout",
     "output_type": "stream",
     "text": [
      "pile vide\n",
      "Valeur dépiler :  45\n",
      "Valeur dépiler :  20\n",
      "impossible de dépiler\n"
     ]
    }
   ],
   "source": [
    "def main():\n",
    "    p = Piles()\n",
    "    if p.pilevides():\n",
    "        print('pile vide')\n",
    "    else:\n",
    "        print('pile non vide')\n",
    "    p.empilers(20)\n",
    "    p.empilers(45)\n",
    "    p.depilers()\n",
    "    p.depilers()\n",
    "    p.depilers()\n",
    "main()"
   ]
  },
  {
   "cell_type": "markdown",
   "id": "8947547c",
   "metadata": {},
   "source": [
    "---"
   ]
  },
  {
   "cell_type": "markdown",
   "id": "8b532f84",
   "metadata": {},
   "source": [
    "# Les files"
   ]
  },
  {
   "cell_type": "markdown",
   "id": "0df28a0a",
   "metadata": {},
   "source": [
    "## I Définition :"
   ]
  },
  {
   "cell_type": "markdown",
   "id": "b864b619",
   "metadata": {},
   "source": [
    "Une file est contitué d'éléments qui ont le meme structure deux points d'accès :\n",
    "*Le première est appelé tete de file quand on supprime la tete de file pour un service\n",
    "*Le dernière de la file : on ajout après le dernier. Le dernier est appelé queue de file \n",
    "Les files utilisent FIFO(premier arrivé, prenier servi)\n",
    "#### - Deux implémentation possibles:\n",
    "##### . A l.aide des liste chainées(implémentation propre)\n",
    "##### . Avec le classe Queue de la bibliothéque python"
   ]
  },
  {
   "cell_type": "markdown",
   "id": "0bdc4bf8",
   "metadata": {},
   "source": [
    "### II implémentation avec les listes chainées"
   ]
  },
  {
   "cell_type": "markdown",
   "id": "05ed7ace",
   "metadata": {},
   "source": [
    "### Jeu de fonction limité sur une file F:\n",
    "#### - initfile(F) qui permet de créer une file vide\n",
    "#### - filevide(F) qui renvoie vrai si la file est vide et faux dans le cas contraire\n",
    "#### - ajouterfile(F, x) qui ajoute l'élément x dans la file f\n",
    "#### - enleverfile(F, x) qui recupère le prémier de la file dans x pour un service et la supprimer de la file"
   ]
  },
  {
   "cell_type": "code",
   "execution_count": 37,
   "id": "abdd015d",
   "metadata": {},
   "outputs": [],
   "source": [
    "class Initfile:\n",
    "    def __init__(self, info):\n",
    "        self.info = info\n",
    "        self.next = None\n",
    "        "
   ]
  },
  {
   "cell_type": "code",
   "execution_count": 39,
   "id": "30248141",
   "metadata": {},
   "outputs": [],
   "source": [
    "class File:\n",
    "    def __init__(self):\n",
    "        self.tete = None\n",
    "        self.queue = None\n",
    "    def filevide(self):\n",
    "        return self.tete == None and self.queue == None\n",
    "    def ajouterfile(self, x):\n",
    "        new = Initfile(x)\n",
    "        if self.tete == None:\n",
    "            self.tete = self.queue = new\n",
    "        else:\n",
    "            self.queue.next = new\n",
    "            self.queue = new\n",
    "    def enleverfile(self):\n",
    "        if self.tete == None:\n",
    "            print('Impossible to acces in a empty file')\n",
    "        else:\n",
    "            x = self.tete.info\n",
    "            print('Valeur en tete de file : ', x)\n",
    "            if self.tete == self.queue:\n",
    "                self.tete = None\n",
    "                self.queue = None\n",
    "            else:\n",
    "                self.tete = self.tete.next\n",
    "            "
   ]
  },
  {
   "cell_type": "code",
   "execution_count": 40,
   "id": "ea85b008",
   "metadata": {},
   "outputs": [
    {
     "name": "stdout",
     "output_type": "stream",
     "text": [
      "file vide !!!\n",
      "Valeur en tete de file :  50\n",
      "Valeur en tete de file :  60\n",
      "Impossible to acces in a empty file\n"
     ]
    }
   ],
   "source": [
    "def main():\n",
    "    F = File()\n",
    "    if F.filevide():\n",
    "        print('file vide !!!')\n",
    "    else:\n",
    "        print('file non vide')\n",
    "    F.ajouterfile(50)\n",
    "    F.ajouterfile(60)\n",
    "    F.enleverfile()\n",
    "    F.enleverfile()\n",
    "    F.enleverfile()\n",
    "main()"
   ]
  },
  {
   "cell_type": "markdown",
   "id": "91c850be",
   "metadata": {},
   "source": [
    "### II Implémentation avec la bibliothéque Queue de python :"
   ]
  },
  {
   "cell_type": "code",
   "execution_count": 42,
   "id": "03e0520c",
   "metadata": {},
   "outputs": [],
   "source": [
    "from queue import Queue\n",
    "class Files:\n",
    "    def __init__(self):\n",
    "        self.mafile = Queue()\n",
    "    def filevides(self):\n",
    "        return self.mafile.empty()\n",
    "    def ajouterfiles(self, x):\n",
    "        self.mafile.put(x)\n",
    "    def enleverfiles(self):\n",
    "        if self.filevides():\n",
    "            print('impossible to delete in a empty file')\n",
    "        else:\n",
    "            x = self.mafile.get()\n",
    "            print('tete de file : ', x)"
   ]
  },
  {
   "cell_type": "code",
   "execution_count": 43,
   "id": "ea293df2",
   "metadata": {},
   "outputs": [
    {
     "name": "stdout",
     "output_type": "stream",
     "text": [
      "tete de file :  50\n",
      "tete de file :  60\n",
      "impossible to delete in a empty file\n"
     ]
    }
   ],
   "source": [
    "def main():\n",
    "    f = Files()\n",
    "    f.ajouterfiles(50)\n",
    "    f.ajouterfiles(60)\n",
    "    f.enleverfiles()\n",
    "    f.enleverfiles()\n",
    "    f.enleverfiles()\n",
    "main()"
   ]
  },
  {
   "cell_type": "code",
   "execution_count": null,
   "id": "3c257cf0",
   "metadata": {},
   "outputs": [],
   "source": []
  }
 ],
 "metadata": {
  "kernelspec": {
   "display_name": "Python 3 (ipykernel)",
   "language": "python",
   "name": "python3"
  },
  "language_info": {
   "codemirror_mode": {
    "name": "ipython",
    "version": 3
   },
   "file_extension": ".py",
   "mimetype": "text/x-python",
   "name": "python",
   "nbconvert_exporter": "python",
   "pygments_lexer": "ipython3",
   "version": "3.11.5"
  }
 },
 "nbformat": 4,
 "nbformat_minor": 5
}
