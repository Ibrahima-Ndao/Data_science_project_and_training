{
 "cells": [
  {
   "cell_type": "code",
   "execution_count": 69,
   "id": "9d080b5c",
   "metadata": {},
   "outputs": [],
   "source": [
    "import csv\n",
    "def lecture(chemin, delimiter, utf8):\n",
    "    with open(chemin, 'r', encoding = utf8) as f:\n",
    "        data = []\n",
    "        cols = f.readline().strip().split(delimiter)\n",
    "        for line in f:\n",
    "            line = line.strip().split(delimiter)\n",
    "            data.append(dict(zip(cols, line)))\n",
    "            for pays in data:\n",
    "                for key, value in pays.items():\n",
    "                    if (key == 'latitude' or key == 'longitude'):\n",
    "                        if (value != ''):\n",
    "                            pays[key] = float(value)\n",
    "                        else:\n",
    "                            pays[key] = 0\n",
    "        return data"
   ]
  },
  {
   "cell_type": "code",
   "execution_count": 70,
   "id": "5d6ff177",
   "metadata": {},
   "outputs": [
    {
     "name": "stdout",
     "output_type": "stream",
     "text": [
      "['country', 'latitude', 'longitude', 'name']\n",
      "<_io.TextIOWrapper name='Data/countries.csv' mode='r' encoding='utf-8'>\n"
     ]
    }
   ],
   "source": [
    "countries = lecture(\"Data/countries.csv\", \",\", 'utf-8')"
   ]
  },
  {
   "cell_type": "markdown",
   "id": "ec13372b",
   "metadata": {},
   "source": [
    "## 1. Afficher les prémier lignes"
   ]
  },
  {
   "cell_type": "code",
   "execution_count": 64,
   "id": "11d74088",
   "metadata": {},
   "outputs": [
    {
     "data": {
      "text/plain": [
       "[{'country': 'AD',\n",
       "  'latitude': 42.546245,\n",
       "  'longitude': 1.601554,\n",
       "  'name': 'Andorra'},\n",
       " {'country': 'AE',\n",
       "  'latitude': 23.424076,\n",
       "  'longitude': 53.847818,\n",
       "  'name': '\"United Arab Emirates\"'},\n",
       " {'country': 'AF',\n",
       "  'latitude': 33.93911,\n",
       "  'longitude': 67.709953,\n",
       "  'name': 'Afghanistan'},\n",
       " {'country': 'AG',\n",
       "  'latitude': 17.060816,\n",
       "  'longitude': -61.796428,\n",
       "  'name': '\"Antigua and Barbuda\"'},\n",
       " {'country': 'AI',\n",
       "  'latitude': 18.220554,\n",
       "  'longitude': -63.068615,\n",
       "  'name': 'Anguilla'}]"
      ]
     },
     "execution_count": 64,
     "metadata": {},
     "output_type": "execute_result"
    }
   ],
   "source": [
    "countries[0:5]"
   ]
  },
  {
   "cell_type": "markdown",
   "id": "a57befbd",
   "metadata": {},
   "source": [
    "## 2. Calculer le nombre total de pays dans le jeu de données"
   ]
  },
  {
   "cell_type": "code",
   "execution_count": 49,
   "id": "8811942a",
   "metadata": {},
   "outputs": [
    {
     "name": "stdout",
     "output_type": "stream",
     "text": [
      "245\n"
     ]
    }
   ],
   "source": [
    "nombre_de_pays = len(countries)\n",
    "print(nombre_de_pays)"
   ]
  },
  {
   "cell_type": "markdown",
   "id": "882a757b",
   "metadata": {},
   "source": [
    "## 3. Trouver le pays avec la latitude la plus élever"
   ]
  },
  {
   "cell_type": "code",
   "execution_count": 57,
   "id": "838f5503",
   "metadata": {},
   "outputs": [
    {
     "name": "stdout",
     "output_type": "stream",
     "text": [
      "77.553604\n",
      "\"Svalbard and Jan Mayen\"\n"
     ]
    }
   ],
   "source": [
    "latitude = countries[0]['latitude']\n",
    "pays = countries[0]['name']\n",
    "for countrie in countries:\n",
    "    for key, values in countrie.items():\n",
    "        if key == 'latitude':\n",
    "            if values > latitude:\n",
    "                latitude = values\n",
    "                pays = countrie['name']\n",
    "print(latitude)\n",
    "print(pays)"
   ]
  },
  {
   "cell_type": "markdown",
   "id": "bcecba3b",
   "metadata": {},
   "source": [
    "## 4. Identifier tous pays dont leurs noms commence par A"
   ]
  },
  {
   "cell_type": "code",
   "execution_count": 61,
   "id": "f25df2e6",
   "metadata": {},
   "outputs": [
    {
     "data": {
      "text/plain": [
       "[{'country': 'AD',\n",
       "  'latitude': 42.546245,\n",
       "  'longitude': 1.601554,\n",
       "  'name': 'Andorra'},\n",
       " {'country': 'AF',\n",
       "  'latitude': 33.93911,\n",
       "  'longitude': 67.709953,\n",
       "  'name': 'Afghanistan'},\n",
       " {'country': 'AI',\n",
       "  'latitude': 18.220554,\n",
       "  'longitude': -63.068615,\n",
       "  'name': 'Anguilla'},\n",
       " {'country': 'AL',\n",
       "  'latitude': 41.153332,\n",
       "  'longitude': 20.168331,\n",
       "  'name': 'Albania'},\n",
       " {'country': 'AM',\n",
       "  'latitude': 40.069099,\n",
       "  'longitude': 45.038189,\n",
       "  'name': 'Armenia'},\n",
       " {'country': 'AO',\n",
       "  'latitude': -11.202692,\n",
       "  'longitude': 17.873887,\n",
       "  'name': 'Angola'},\n",
       " {'country': 'AQ',\n",
       "  'latitude': -75.250973,\n",
       "  'longitude': -0.071389,\n",
       "  'name': 'Antarctica'},\n",
       " {'country': 'AR',\n",
       "  'latitude': -38.416097,\n",
       "  'longitude': -63.616672,\n",
       "  'name': 'Argentina'},\n",
       " {'country': 'AT',\n",
       "  'latitude': 47.516231,\n",
       "  'longitude': 14.550072,\n",
       "  'name': 'Austria'},\n",
       " {'country': 'AU',\n",
       "  'latitude': -25.274398,\n",
       "  'longitude': 133.775136,\n",
       "  'name': 'Australia'},\n",
       " {'country': 'AW',\n",
       "  'latitude': 12.52111,\n",
       "  'longitude': -69.968338,\n",
       "  'name': 'Aruba'},\n",
       " {'country': 'AZ',\n",
       "  'latitude': 40.143105,\n",
       "  'longitude': 47.576927,\n",
       "  'name': 'Azerbaijan'},\n",
       " {'country': 'DZ',\n",
       "  'latitude': 28.033886,\n",
       "  'longitude': 1.659626,\n",
       "  'name': 'Algeria'}]"
      ]
     },
     "execution_count": 61,
     "metadata": {},
     "output_type": "execute_result"
    }
   ],
   "source": [
    "[countrie for countrie in countries if countrie['name'].lower().startswith('a')]"
   ]
  },
  {
   "cell_type": "code",
   "execution_count": null,
   "id": "42589b42",
   "metadata": {},
   "outputs": [],
   "source": [
    "pays_hemisphere = [countrie[]]"
   ]
  },
  {
   "cell_type": "code",
   "execution_count": 49,
   "id": "da1cb36d",
   "metadata": {},
   "outputs": [
    {
     "ename": "AttributeError",
     "evalue": "'_csv.reader' object has no attribute 'readline'",
     "output_type": "error",
     "traceback": [
      "\u001b[1;31m---------------------------------------------------------------------------\u001b[0m",
      "\u001b[1;31mAttributeError\u001b[0m                            Traceback (most recent call last)",
      "Cell \u001b[1;32mIn[49], line 3\u001b[0m\n\u001b[0;32m      1\u001b[0m \u001b[38;5;28;01mimport\u001b[39;00m \u001b[38;5;21;01mcsv\u001b[39;00m\n\u001b[0;32m      2\u001b[0m \u001b[38;5;28;01mwith\u001b[39;00m \u001b[38;5;28mopen\u001b[39m(\u001b[38;5;124m'\u001b[39m\u001b[38;5;124mData/countries.csv\u001b[39m\u001b[38;5;124m'\u001b[39m, \u001b[38;5;124m'\u001b[39m\u001b[38;5;124mr\u001b[39m\u001b[38;5;124m'\u001b[39m, encoding \u001b[38;5;241m=\u001b[39m \u001b[38;5;124m'\u001b[39m\u001b[38;5;124mutf-8\u001b[39m\u001b[38;5;124m'\u001b[39m) \u001b[38;5;28;01mas\u001b[39;00m f:\n\u001b[1;32m----> 3\u001b[0m     data\u001b[38;5;241m.\u001b[39mreadline()\n",
      "\u001b[1;31mAttributeError\u001b[0m: '_csv.reader' object has no attribute 'readline'"
     ]
    }
   ],
   "source": [
    "import csv\n",
    "with open('Data/countries.csv', 'r', encoding = 'utf-8') as f:\n",
    "    data.readline()"
   ]
  },
  {
   "cell_type": "code",
   "execution_count": null,
   "id": "26d99b22",
   "metadata": {},
   "outputs": [],
   "source": []
  },
  {
   "cell_type": "code",
   "execution_count": null,
   "id": "00fb3efb",
   "metadata": {},
   "outputs": [],
   "source": []
  },
  {
   "cell_type": "code",
   "execution_count": null,
   "id": "45ae839d",
   "metadata": {},
   "outputs": [],
   "source": []
  }
 ],
 "metadata": {
  "kernelspec": {
   "display_name": "Python 3 (ipykernel)",
   "language": "python",
   "name": "python3"
  },
  "language_info": {
   "codemirror_mode": {
    "name": "ipython",
    "version": 3
   },
   "file_extension": ".py",
   "mimetype": "text/x-python",
   "name": "python",
   "nbconvert_exporter": "python",
   "pygments_lexer": "ipython3",
   "version": "3.11.5"
  }
 },
 "nbformat": 4,
 "nbformat_minor": 5
}
