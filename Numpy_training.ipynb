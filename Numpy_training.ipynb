{
 "cells": [
  {
   "cell_type": "code",
   "execution_count": 37,
   "id": "fbb24792",
   "metadata": {},
   "outputs": [],
   "source": [
    "import numpy as np\n",
    "array1 = np.array([[1, 3, 4, 4, 5]])"
   ]
  },
  {
   "cell_type": "code",
   "execution_count": 4,
   "id": "fd183b7c",
   "metadata": {},
   "outputs": [
    {
     "name": "stdout",
     "output_type": "stream",
     "text": [
      "[1 3 4 4]\n"
     ]
    }
   ],
   "source": [
    "print(array1)"
   ]
  },
  {
   "cell_type": "code",
   "execution_count": 7,
   "id": "6337804e",
   "metadata": {},
   "outputs": [],
   "source": [
    "array2 = np.array([['dug', 'bird'], ['lion', 'tigger'], ['cat', 'dog']])"
   ]
  },
  {
   "cell_type": "code",
   "execution_count": 8,
   "id": "ba650825",
   "metadata": {},
   "outputs": [
    {
     "name": "stdout",
     "output_type": "stream",
     "text": [
      "[['dug' 'bird']\n",
      " ['lion' 'tigger']\n",
      " ['cat' 'dog']]\n"
     ]
    }
   ],
   "source": [
    "print(array2)"
   ]
  },
  {
   "cell_type": "code",
   "execution_count": 31,
   "id": "f45a540d",
   "metadata": {},
   "outputs": [],
   "source": [
    "animals = [['dug', 'bird', 'chicken'], ['lion', 'tigger', 'worlf'], ['cat', 'dog', 'mouse']]"
   ]
  },
  {
   "cell_type": "code",
   "execution_count": 32,
   "id": "49b59310",
   "metadata": {},
   "outputs": [],
   "source": [
    "array3 = np.array(animals)"
   ]
  },
  {
   "cell_type": "code",
   "execution_count": 33,
   "id": "4433512b",
   "metadata": {},
   "outputs": [
    {
     "name": "stdout",
     "output_type": "stream",
     "text": [
      "[['dug' 'bird' 'chicken']\n",
      " ['lion' 'tigger' 'worlf']\n",
      " ['cat' 'dog' 'mouse']]\n"
     ]
    }
   ],
   "source": [
    "print(array3)"
   ]
  },
  {
   "cell_type": "code",
   "execution_count": 38,
   "id": "80d168d5",
   "metadata": {},
   "outputs": [
    {
     "name": "stdout",
     "output_type": "stream",
     "text": [
      "(1, 5)\n"
     ]
    }
   ],
   "source": [
    "print(array1.shape)"
   ]
  },
  {
   "cell_type": "code",
   "execution_count": 17,
   "id": "402fed59",
   "metadata": {},
   "outputs": [
    {
     "name": "stdout",
     "output_type": "stream",
     "text": [
      "(3, 2)\n"
     ]
    }
   ],
   "source": [
    "print(array2.shape)"
   ]
  },
  {
   "cell_type": "code",
   "execution_count": 34,
   "id": "989f9a8b",
   "metadata": {},
   "outputs": [
    {
     "name": "stdout",
     "output_type": "stream",
     "text": [
      "(3, 3)\n"
     ]
    }
   ],
   "source": [
    "print(array3.shape)"
   ]
  },
  {
   "cell_type": "code",
   "execution_count": 41,
   "id": "8b6ed4a4",
   "metadata": {},
   "outputs": [],
   "source": [
    "array4 = np.array([1, 3, 4, 4, 5])"
   ]
  },
  {
   "cell_type": "code",
   "execution_count": 42,
   "id": "e0566e9f",
   "metadata": {},
   "outputs": [
    {
     "name": "stdout",
     "output_type": "stream",
     "text": [
      "(5,)\n"
     ]
    }
   ],
   "source": [
    "print(array4.shape)"
   ]
  },
  {
   "cell_type": "markdown",
   "id": "e196e960",
   "metadata": {},
   "source": [
    "## Lire un dataset avec numpy genfromtxt"
   ]
  },
  {
   "cell_type": "code",
   "execution_count": 1,
   "id": "290443c3",
   "metadata": {},
   "outputs": [
    {
     "name": "stdout",
     "output_type": "stream",
     "text": [
      "<class 'numpy.ndarray'>\n"
     ]
    },
    {
     "data": {
      "text/plain": [
       "array([[      nan,       nan,       nan,       nan,       nan],\n",
       "       [1.986e+03,       nan,       nan,       nan, 0.000e+00],\n",
       "       [1.986e+03,       nan,       nan,       nan, 5.000e-01],\n",
       "       ...,\n",
       "       [1.986e+03,       nan,       nan,       nan, 2.540e+00],\n",
       "       [1.987e+03,       nan,       nan,       nan, 0.000e+00],\n",
       "       [1.986e+03,       nan,       nan,       nan, 5.150e+00]])"
      ]
     },
     "execution_count": 1,
     "metadata": {},
     "output_type": "execute_result"
    }
   ],
   "source": [
    "import numpy as np\n",
    "world_alcohol = np.genfromtxt('Data/world_alcohol.csv', delimiter = ',')\n",
    "print(type(world_alcohol))\n",
    "world_alcohol"
   ]
  },
  {
   "cell_type": "markdown",
   "id": "ebdf85fd",
   "metadata": {},
   "source": [
    "## Les types de donnée avec numpy"
   ]
  },
  {
   "cell_type": "code",
   "execution_count": 54,
   "id": "44a7005a",
   "metadata": {},
   "outputs": [],
   "source": [
    "world_alcohol_dtype = world_alcohol.dtype"
   ]
  },
  {
   "cell_type": "code",
   "execution_count": 55,
   "id": "f7bf0e49",
   "metadata": {},
   "outputs": [
    {
     "name": "stdout",
     "output_type": "stream",
     "text": [
      "float64\n"
     ]
    }
   ],
   "source": [
    "print(world_alcohol_dtype)"
   ]
  },
  {
   "cell_type": "code",
   "execution_count": 63,
   "id": "d1ca7849",
   "metadata": {},
   "outputs": [
    {
     "name": "stdout",
     "output_type": "stream",
     "text": [
      "<U7\n"
     ]
    }
   ],
   "source": [
    "print(array3.dtype)"
   ]
  },
  {
   "cell_type": "markdown",
   "id": "7d8f9965",
   "metadata": {},
   "source": [
    "## Afficher les données correctement"
   ]
  },
  {
   "cell_type": "code",
   "execution_count": 10,
   "id": "0d45c52f",
   "metadata": {},
   "outputs": [
    {
     "data": {
      "text/plain": [
       "array([['1986', 'Western Pacific', 'Viet Nam', 'Wine', '0'],\n",
       "       ['1986', 'Americas', 'Uruguay', 'Other', '0.5'],\n",
       "       ['1985', 'Africa', \"Cte d'Ivoire\", 'Wine', '1.62'],\n",
       "       ...,\n",
       "       ['1986', 'Europe', 'Switzerland', 'Spirits', '2.54'],\n",
       "       ['1987', 'Western Pacific', 'Papua New Guinea', 'Other', '0'],\n",
       "       ['1986', 'Africa', 'Swaziland', 'Other', '5.15']], dtype='<U75')"
      ]
     },
     "execution_count": 10,
     "metadata": {},
     "output_type": "execute_result"
    }
   ],
   "source": [
    "import numpy as np\n",
    "world_alcohol = np.genfromtxt('Data/world_alcohol.csv', delimiter = ',', dtype = 'U75', skip_header = 1)\n",
    "world_alcohol"
   ]
  },
  {
   "cell_type": "markdown",
   "id": "d4991ffc",
   "metadata": {},
   "source": [
    "### Extraire une valeur depuis un tableau numpy"
   ]
  },
  {
   "cell_type": "markdown",
   "id": "4f0e9768",
   "metadata": {},
   "source": [
    "- Assigner le nombre de vin bu par un Ivoirien en 1985 par la variable ivoire_1985.\n",
    "- Assigner le nom du pays de la 2e ligne a la variable second_country."
   ]
  },
  {
   "cell_type": "code",
   "execution_count": 7,
   "id": "cfd8af88",
   "metadata": {},
   "outputs": [],
   "source": [
    "ivoire_1985 = world_alcohol[2, 4]\n",
    "second_country = world_alcohol[1, 2]"
   ]
  },
  {
   "cell_type": "code",
   "execution_count": 8,
   "id": "8040d721",
   "metadata": {},
   "outputs": [
    {
     "name": "stdout",
     "output_type": "stream",
     "text": [
      "1.62\n"
     ]
    }
   ],
   "source": [
    "print(ivoire_1985)"
   ]
  },
  {
   "cell_type": "code",
   "execution_count": 9,
   "id": "b7105c3d",
   "metadata": {},
   "outputs": [
    {
     "name": "stdout",
     "output_type": "stream",
     "text": [
      "Uruguay\n"
     ]
    }
   ],
   "source": [
    "print(second_country)"
   ]
  },
  {
   "cell_type": "markdown",
   "id": "2d62b435",
   "metadata": {},
   "source": [
    "### Extraire un vecteur de valeurs dans un tableau"
   ]
  },
  {
   "cell_type": "code",
   "execution_count": 33,
   "id": "564b00f0",
   "metadata": {},
   "outputs": [],
   "source": [
    "animals = np.array([['dug', 'bird', 'chicken'], ['lion', 'tigger', 'worlf'], ['cat', 'dog', 'mouse']])"
   ]
  },
  {
   "cell_type": "code",
   "execution_count": 23,
   "id": "52ab8abc",
   "metadata": {},
   "outputs": [],
   "source": [
    "array1 = np.array([1, 3, 4, 4, 5])"
   ]
  },
  {
   "cell_type": "code",
   "execution_count": 26,
   "id": "9e7106b2",
   "metadata": {},
   "outputs": [
    {
     "data": {
      "text/plain": [
       "array([3, 4])"
      ]
     },
     "execution_count": 26,
     "metadata": {},
     "output_type": "execute_result"
    }
   ],
   "source": [
    "array1[1:3]"
   ]
  },
  {
   "cell_type": "code",
   "execution_count": 34,
   "id": "b189f0bb",
   "metadata": {},
   "outputs": [
    {
     "data": {
      "text/plain": [
       "array(['dug', 'lion', 'cat'], dtype='<U7')"
      ]
     },
     "execution_count": 34,
     "metadata": {},
     "output_type": "execute_result"
    }
   ],
   "source": [
    "animals[:,0]"
   ]
  },
  {
   "cell_type": "code",
   "execution_count": 37,
   "id": "17b720bf",
   "metadata": {},
   "outputs": [
    {
     "data": {
      "text/plain": [
       "array(['lion', 'tigger', 'worlf'], dtype='<U7')"
      ]
     },
     "execution_count": 37,
     "metadata": {},
     "output_type": "execute_result"
    }
   ],
   "source": [
    "animals[1,:]"
   ]
  },
  {
   "cell_type": "code",
   "execution_count": 36,
   "id": "41c14002",
   "metadata": {},
   "outputs": [
    {
     "data": {
      "text/plain": [
       "array(['dog', 'mouse'], dtype='<U7')"
      ]
     },
     "execution_count": 36,
     "metadata": {},
     "output_type": "execute_result"
    }
   ],
   "source": [
    "animals[2,1:]"
   ]
  },
  {
   "cell_type": "code",
   "execution_count": 39,
   "id": "a4b3db2b",
   "metadata": {},
   "outputs": [
    {
     "data": {
      "text/plain": [
       "array(['tigger', 'dog'], dtype='<U7')"
      ]
     },
     "execution_count": 39,
     "metadata": {},
     "output_type": "execute_result"
    }
   ],
   "source": [
    "animals[1:,1]"
   ]
  },
  {
   "cell_type": "code",
   "execution_count": 40,
   "id": "46ee78ad",
   "metadata": {},
   "outputs": [],
   "source": [
    "countries = world_alcohol[:, 2]"
   ]
  },
  {
   "cell_type": "code",
   "execution_count": 41,
   "id": "b4635bf1",
   "metadata": {},
   "outputs": [
    {
     "name": "stdout",
     "output_type": "stream",
     "text": [
      "['Viet Nam' 'Uruguay' \"Cte d'Ivoire\" ... 'Switzerland' 'Papua New Guinea'\n",
      " 'Swaziland']\n"
     ]
    }
   ],
   "source": [
    "print(countries)"
   ]
  },
  {
   "cell_type": "code",
   "execution_count": 43,
   "id": "415aa7b7",
   "metadata": {},
   "outputs": [],
   "source": [
    "alcohol_consumption = world_alcohol[:, 4]"
   ]
  },
  {
   "cell_type": "code",
   "execution_count": 44,
   "id": "dd133484",
   "metadata": {},
   "outputs": [
    {
     "data": {
      "text/plain": [
       "array(['0', '0.5', '1.62', ..., '2.54', '0', '5.15'], dtype='<U75')"
      ]
     },
     "execution_count": 44,
     "metadata": {},
     "output_type": "execute_result"
    }
   ],
   "source": [
    "alcohol_consumption"
   ]
  },
  {
   "cell_type": "code",
   "execution_count": 45,
   "id": "08f01d89",
   "metadata": {},
   "outputs": [
    {
     "data": {
      "text/plain": [
       "array([['1986', 'Western Pacific'],\n",
       "       ['1986', 'Americas'],\n",
       "       ['1985', 'Africa'],\n",
       "       ...,\n",
       "       ['1986', 'Europe'],\n",
       "       ['1987', 'Western Pacific'],\n",
       "       ['1986', 'Africa']], dtype='<U75')"
      ]
     },
     "execution_count": 45,
     "metadata": {},
     "output_type": "execute_result"
    }
   ],
   "source": [
    "#Toutes les lignes des deux prémière colonne\n",
    "first_two_column = world_alcohol[:, 0:2]\n",
    "first_two_column"
   ]
  },
  {
   "cell_type": "code",
   "execution_count": 54,
   "id": "cc358654",
   "metadata": {},
   "outputs": [
    {
     "name": "stdout",
     "output_type": "stream",
     "text": [
      "dug\n",
      "bird\n",
      "chicken\n",
      "lion\n",
      "tigger\n",
      "worlf\n",
      "cat\n",
      "dog\n",
      "mouse\n"
     ]
    }
   ],
   "source": [
    "for row in animals:\n",
    "    for i in row:\n",
    "        print(i)"
   ]
  },
  {
   "cell_type": "code",
   "execution_count": null,
   "id": "70df9480",
   "metadata": {},
   "outputs": [],
   "source": []
  }
 ],
 "metadata": {
  "kernelspec": {
   "display_name": "Python 3 (ipykernel)",
   "language": "python",
   "name": "python3"
  },
  "language_info": {
   "codemirror_mode": {
    "name": "ipython",
    "version": 3
   },
   "file_extension": ".py",
   "mimetype": "text/x-python",
   "name": "python",
   "nbconvert_exporter": "python",
   "pygments_lexer": "ipython3",
   "version": "3.11.5"
  }
 },
 "nbformat": 4,
 "nbformat_minor": 5
}
