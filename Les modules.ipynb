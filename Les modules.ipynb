{
 "cells": [
  {
   "cell_type": "markdown",
   "id": "ad5d6986",
   "metadata": {},
   "source": [
    "# Les modules :"
   ]
  },
  {
   "cell_type": "markdown",
   "id": "5f4186d3",
   "metadata": {},
   "source": [
    "## Le module csv"
   ]
  },
  {
   "cell_type": "code",
   "execution_count": 2,
   "id": "2f53361a",
   "metadata": {},
   "outputs": [],
   "source": [
    "import csv\n",
    "f = open('Data/nfl.csv')\n",
    "csvreader = csv.reader(f)\n",
    "nfl = list(csvreader)"
   ]
  },
  {
   "cell_type": "code",
   "execution_count": 4,
   "id": "8dc4277b",
   "metadata": {},
   "outputs": [
    {
     "name": "stdout",
     "output_type": "stream",
     "text": [
      "[['2009', '1', 'Pittsburgh Steelers', 'Tennessee Titans'], ['2009', '1', 'Minnesota Vikings', 'Cleveland Browns'], ['2009', '1', 'New York Giants', 'Washington Redskins'], ['2009', '1', 'San Francisco 49ers', 'Arizona Cardinals'], ['2009', '1', 'Seattle Seahawks', 'St. Louis Rams'], ['2009', '1', 'Philadelphia Eagles', 'Carolina Panthers'], ['2009', '1', 'New York Jets', 'Houston Texans'], ['2009', '1', 'Atlanta Falcons', 'Miami Dolphins'], ['2009', '1', 'Baltimore Ravens', 'Kansas City Chiefs'], ['2009', '1', 'Indianapolis Colts', 'Jacksonville Jaguars']]\n"
     ]
    }
   ],
   "source": [
    "print(nfl[0:10])"
   ]
  },
  {
   "cell_type": "markdown",
   "id": "809fecc2",
   "metadata": {},
   "source": [
    "### Compter le nombre de victoire de l'équipe de '''San francisco'''"
   ]
  },
  {
   "cell_type": "code",
   "execution_count": 14,
   "id": "5b4ba50d",
   "metadata": {},
   "outputs": [],
   "source": [
    "def winner(equipe_name):\n",
    "    san_win = 0\n",
    "    for row in nfl:\n",
    "        if row[2] == equipe_name:\n",
    "            san_win += 1\n",
    "    return(san_win)\n"
   ]
  },
  {
   "cell_type": "code",
   "execution_count": 15,
   "id": "0e02f50a",
   "metadata": {},
   "outputs": [
    {
     "data": {
      "text/plain": [
       "48"
      ]
     },
     "execution_count": 15,
     "metadata": {},
     "output_type": "execute_result"
    }
   ],
   "source": [
    "winner('Indianapolis Colts')"
   ]
  },
  {
   "cell_type": "markdown",
   "id": "75669ea0",
   "metadata": {},
   "source": [
    "### Compter le nombre de victoire pour un équipe pour une année donner"
   ]
  },
  {
   "cell_type": "code",
   "execution_count": 27,
   "id": "1d8789e7",
   "metadata": {},
   "outputs": [],
   "source": [
    "def nb_win_per_year(team, year):\n",
    "    cpt = 0\n",
    "    for row in nfl:\n",
    "        if row[2] == team and int(row[0]) == year:\n",
    "            cpt += 1\n",
    "    return cpt"
   ]
  },
  {
   "cell_type": "code",
   "execution_count": 31,
   "id": "83f10685",
   "metadata": {},
   "outputs": [
    {
     "data": {
      "text/plain": [
       "12"
      ]
     },
     "execution_count": 31,
     "metadata": {},
     "output_type": "execute_result"
    }
   ],
   "source": [
    "nb_win_per_year('San Francisco 49ers', 2012)"
   ]
  },
  {
   "cell_type": "code",
   "execution_count": 32,
   "id": "ffa1bd1c",
   "metadata": {},
   "outputs": [],
   "source": [
    "with open('Data/nfl.csv') as f:\n",
    "    reader = csv.reader(f)\n",
    "    nfls = list(reader)"
   ]
  },
  {
   "cell_type": "code",
   "execution_count": 34,
   "id": "704f70ac",
   "metadata": {},
   "outputs": [
    {
     "name": "stdout",
     "output_type": "stream",
     "text": [
      "[['2009', '1', 'Pittsburgh Steelers', 'Tennessee Titans'], ['2009', '1', 'Minnesota Vikings', 'Cleveland Browns'], ['2009', '1', 'New York Giants', 'Washington Redskins'], ['2009', '1', 'San Francisco 49ers', 'Arizona Cardinals'], ['2009', '1', 'Seattle Seahawks', 'St. Louis Rams'], ['2009', '1', 'Philadelphia Eagles', 'Carolina Panthers'], ['2009', '1', 'New York Jets', 'Houston Texans'], ['2009', '1', 'Atlanta Falcons', 'Miami Dolphins'], ['2009', '1', 'Baltimore Ravens', 'Kansas City Chiefs'], ['2009', '1', 'Indianapolis Colts', 'Jacksonville Jaguars']]\n"
     ]
    }
   ],
   "source": [
    "print(nfls[0:10])"
   ]
  },
  {
   "cell_type": "code",
   "execution_count": 35,
   "id": "278cf5c2",
   "metadata": {},
   "outputs": [
    {
     "data": {
      "text/plain": [
       "[['2009', '1', 'Pittsburgh Steelers', 'Tennessee Titans'],\n",
       " ['2009', '1', 'Minnesota Vikings', 'Cleveland Browns'],\n",
       " ['2009', '1', 'New York Giants', 'Washington Redskins'],\n",
       " ['2009', '1', 'San Francisco 49ers', 'Arizona Cardinals'],\n",
       " ['2009', '1', 'Seattle Seahawks', 'St. Louis Rams'],\n",
       " ['2009', '1', 'Philadelphia Eagles', 'Carolina Panthers'],\n",
       " ['2009', '1', 'New York Jets', 'Houston Texans'],\n",
       " ['2009', '1', 'Atlanta Falcons', 'Miami Dolphins'],\n",
       " ['2009', '1', 'Baltimore Ravens', 'Kansas City Chiefs'],\n",
       " ['2009', '1', 'Indianapolis Colts', 'Jacksonville Jaguars']]"
      ]
     },
     "execution_count": 35,
     "metadata": {},
     "output_type": "execute_result"
    }
   ],
   "source": [
    "nfls[0:10]"
   ]
  },
  {
   "cell_type": "code",
   "execution_count": null,
   "id": "a420d035",
   "metadata": {},
   "outputs": [],
   "source": []
  }
 ],
 "metadata": {
  "kernelspec": {
   "display_name": "Python 3 (ipykernel)",
   "language": "python",
   "name": "python3"
  },
  "language_info": {
   "codemirror_mode": {
    "name": "ipython",
    "version": 3
   },
   "file_extension": ".py",
   "mimetype": "text/x-python",
   "name": "python",
   "nbconvert_exporter": "python",
   "pygments_lexer": "ipython3",
   "version": "3.11.5"
  }
 },
 "nbformat": 4,
 "nbformat_minor": 5
}
