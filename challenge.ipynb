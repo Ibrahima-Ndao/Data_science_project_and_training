{
 "cells": [
  {
   "cell_type": "markdown",
   "id": "4a05c0a9",
   "metadata": {},
   "source": [
    "# Trainig :\n",
    "### . Soit la liste weather_types = ['Pluie', 'Soleil', 'Nuage', 'Nuage_Pluie', 'Orage', 'Climat']\n",
    "### . Créer la liste vide weather_types_found.\n",
    "### . Vérifier la présence ou non des éléments de weather_types dans la liste weather\n",
    "### . Ajouter le résultat a la liste weather_types_found\n",
    "### . Afficher le résultat"
   ]
  },
  {
   "cell_type": "code",
   "execution_count": 19,
   "id": "b5976f5f",
   "metadata": {},
   "outputs": [
    {
     "name": "stdout",
     "output_type": "stream",
     "text": [
      "[['Jour', 'Climat'], ['1', 'Soleil'], ['2', 'Soleil'], ['3', 'Soleil'], ['4', 'Soleil'], ['5', 'Soleil'], ['6', 'Pluie'], ['7', 'Soleil'], ['8', 'Soleil'], ['9', 'Nuage']]\n"
     ]
    }
   ],
   "source": [
    "data = open('madrid_weather_2016.csv', 'r').read()\n",
    "weather = data.split('\\n')\n",
    "weathers_list = []\n",
    "for rows in weather:\n",
    "    weather_list = rows.split(',')\n",
    "    weathers_list.append(weather_list)\n",
    "print(weathers_list[0:10])"
   ]
  },
  {
   "cell_type": "markdown",
   "id": "35aa81da",
   "metadata": {},
   "source": [
    "# Supprimer l'entete"
   ]
  },
  {
   "cell_type": "code",
   "execution_count": 22,
   "id": "59648ead",
   "metadata": {},
   "outputs": [],
   "source": [
    "weathers = weathers_list[1:len(weathers_list)]"
   ]
  },
  {
   "cell_type": "code",
   "execution_count": 25,
   "id": "4c13a22f",
   "metadata": {},
   "outputs": [
    {
     "name": "stdout",
     "output_type": "stream",
     "text": [
      "['Soleil', 'Soleil', 'Soleil', 'Soleil', 'Soleil']\n"
     ]
    }
   ],
   "source": [
    "weathers_names = []\n",
    "for name in weathers:\n",
    "    weathers_names.append(name[1])\n",
    "print(weathers_names[0:5])"
   ]
  },
  {
   "cell_type": "code",
   "execution_count": 30,
   "id": "6d6c18cd",
   "metadata": {},
   "outputs": [
    {
     "name": "stdout",
     "output_type": "stream",
     "text": [
      "[True, True, True, True, True, False]\n"
     ]
    }
   ],
   "source": [
    "weather_types = ['Pluie', 'Soleil', 'Nuage', 'Nuage-Pluie', 'Orage', 'Climat']\n",
    "weather_types_found = []\n",
    "for weather_type in weather_types:\n",
    "    found = weather_type in weathers_names\n",
    "    weather_types_found.append(found)\n",
    "print(weather_types_found)"
   ]
  },
  {
   "cell_type": "code",
   "execution_count": null,
   "id": "99b6abd0",
   "metadata": {},
   "outputs": [],
   "source": []
  }
 ],
 "metadata": {
  "kernelspec": {
   "display_name": "Python 3 (ipykernel)",
   "language": "python",
   "name": "python3"
  },
  "language_info": {
   "codemirror_mode": {
    "name": "ipython",
    "version": 3
   },
   "file_extension": ".py",
   "mimetype": "text/x-python",
   "name": "python",
   "nbconvert_exporter": "python",
   "pygments_lexer": "ipython3",
   "version": "3.11.5"
  }
 },
 "nbformat": 4,
 "nbformat_minor": 5
}
