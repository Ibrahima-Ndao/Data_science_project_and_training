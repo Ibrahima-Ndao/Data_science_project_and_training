{
 "cells": [
  {
   "cell_type": "markdown",
   "id": "82d86f34",
   "metadata": {},
   "source": [
    "## . Soit la liste countries = ['senegal', 'Mali', 'France', 'Mauritanie', 'united states', 'canada', 'spain']\n",
    "### . Soit la liste temperatures = ['12.3', '11.5', '5', '6.7', '23', '4.4', '8.6']\n",
    "### . Selectionner les trois prémiere valeurs de la liste countries et asigner le resultat a la variable countries_slice\n",
    "### . Sélectionner les quatres dernière valeurs de la température et asigner la valeur a la variable temperatures_slice\n",
    "### . Afficher les résultats"
   ]
  },
  {
   "cell_type": "code",
   "execution_count": 7,
   "id": "f62ad005",
   "metadata": {},
   "outputs": [],
   "source": [
    "countries = ['senegal', 'Mali', 'France', 'Mauritanie', 'united states', 'canada', 'spain']\n",
    "temperatures = ['12.3', '11.5', '5', '6.7', '23', '4.4', '8.6']\n",
    "countries_slice = countries[0:3]\n",
    "temperatures_slice = temperatures[(len(temperatures)-4):]"
   ]
  },
  {
   "cell_type": "code",
   "execution_count": 8,
   "id": "1176a153",
   "metadata": {},
   "outputs": [
    {
     "name": "stdout",
     "output_type": "stream",
     "text": [
      "['senegal', 'Mali', 'France']\n",
      "['6.7', '23', '4.4', '8.6']\n"
     ]
    }
   ],
   "source": [
    "print(countries_slice)\n",
    "print(temperatures_slice)"
   ]
  },
  {
   "cell_type": "markdown",
   "id": "5e1a35a3",
   "metadata": {},
   "source": [
    "---\n",
    "# Fichier et boucle\n",
    "## Bojectif:\n",
    "### . Ouvrir et Lire un fichier dans une liste\n",
    "### . Utiliser des boucles\n",
    "### . Creer et explorer les listes de liste\n",
    "### . Cas reel dataset des départements français"
   ]
  },
  {
   "cell_type": "markdown",
   "id": "84e4ff1c",
   "metadata": {},
   "source": [
    "---\n"
   ]
  },
  {
   "cell_type": "markdown",
   "id": "dbd01f85",
   "metadata": {},
   "source": [
    "# Ouvrir un fichier"
   ]
  },
  {
   "cell_type": "code",
   "execution_count": 58,
   "id": "60e299b2",
   "metadata": {},
   "outputs": [
    {
     "data": {
      "text/plain": [
       "<_io.TextIOWrapper name='python.txt' mode='r' encoding='cp1252'>"
      ]
     },
     "execution_count": 58,
     "metadata": {},
     "output_type": "execute_result"
    }
   ],
   "source": [
    "# on utilise la fonction Open\n",
    "open('python.txt', 'r')"
   ]
  },
  {
   "cell_type": "code",
   "execution_count": 59,
   "id": "bde88461",
   "metadata": {},
   "outputs": [
    {
     "name": "stdout",
     "output_type": "stream",
     "text": [
      "<_io.TextIOWrapper name='python.txt' mode='r' encoding='cp1252'>\n"
     ]
    }
   ],
   "source": [
    "# on peut l'asigner a une variable\n",
    "f = open(\"python.txt\", \"r\")\n",
    "print(f)"
   ]
  },
  {
   "cell_type": "markdown",
   "id": "2940d44d",
   "metadata": {},
   "source": [
    "# Lire un fichier"
   ]
  },
  {
   "cell_type": "code",
   "execution_count": 55,
   "id": "7462dd92",
   "metadata": {},
   "outputs": [
    {
     "data": {
      "text/plain": [
       "'Je lis mon premier fichier !!!'"
      ]
     },
     "execution_count": 55,
     "metadata": {},
     "output_type": "execute_result"
    }
   ],
   "source": [
    "# on utilise la fonction read()\n",
    "f.read()"
   ]
  },
  {
   "cell_type": "code",
   "execution_count": 60,
   "id": "82d94657",
   "metadata": {},
   "outputs": [
    {
     "name": "stdout",
     "output_type": "stream",
     "text": [
      "Je lis mon premier fichier !!!\n"
     ]
    }
   ],
   "source": [
    "# on peut aussi asigner le contenu du fichier a une variable \n",
    "g = f.read()\n",
    "print(g)"
   ]
  },
  {
   "cell_type": "markdown",
   "id": "cdb297ae",
   "metadata": {},
   "source": [
    "---"
   ]
  },
  {
   "cell_type": "markdown",
   "id": "bb8d5b2d",
   "metadata": {},
   "source": [
    "# Training:\n",
    "## . Lire le fichier \"departements_fr.csv\"\n",
    "## . Assigner le résultat a la variable data\n",
    "## . Afficher le résultat"
   ]
  },
  {
   "cell_type": "code",
   "execution_count": 63,
   "id": "b7ce1b6e",
   "metadata": {},
   "outputs": [
    {
     "name": "stdout",
     "output_type": "stream",
     "text": [
      "<_io.TextIOWrapper name='departements_fr.csv' mode='r' encoding='cp1252'>\n"
     ]
    }
   ],
   "source": [
    "f = open(\"departements_fr.csv\", \"r\")\n",
    "print(f)"
   ]
  },
  {
   "cell_type": "code",
   "execution_count": 64,
   "id": "14c2f118",
   "metadata": {},
   "outputs": [
    {
     "name": "stdout",
     "output_type": "stream",
     "text": [
      "Ain,643309\n",
      "Aisne,554040\n",
      "Allier,353262\n",
      "Alpes-de-Haute-Provence,166298\n",
      "Alpes-Maritimes,1098785\n",
      "Ardèche,332051\n",
      "Ardennes,287775\n",
      "Ariège,158076\n",
      "Aube,316098\n",
      "Aude,375065\n",
      "Aveyron,289901\n",
      "Bas-Rhin,1131812\n",
      "Bouches-du-Rhône,2035475\n",
      "Calvados,708407\n",
      "Cantal,152400\n",
      "Charente,366787\n",
      "Charente-Maritime,656046\n",
      "Cher,318590\n",
      "Corrèze,249684\n",
      "Corse-du-Sud,154100\n",
      "Côte-d'Or,545001\n",
      "Côtes-d'Armor,617413\n",
      "Creuse,124948\n",
      "Deux-Sèvres,384655\n",
      "Dordogne,428651\n",
      "Doubs,549155\n",
      "Drôme,514104\n",
      "Essonne,1286908\n",
      "Eure,616076\n",
      "Eure-et-Loir,445083\n",
      "Finistère,935393\n",
      "Gard,752382\n",
      "Gers,197988\n",
      "Gironde,1556663\n",
      "Guadeloupe,406706\n",
      "Guyane,254845\n",
      "Haute-Corse,175499\n",
      "Haute-Garonne,1344579\n",
      "Haute-Loire,234078\n",
      "Haute-Marne,186698\n",
      "Hautes-Alpes,145213\n",
      "Haute-Saône,246022\n",
      "Haute-Savoie,806447\n",
      "Hautes-Pyrénées,236577\n",
      "Haute-Vienne,384708\n",
      "Haut-Rhin,775941\n",
      "Hauts-de-Seine,1617484\n",
      "Hérault,1127333\n",
      "Ille-et-Vilaine,1060051\n",
      "Indre,232802\n",
      "Indre-et-Loire,619004\n",
      "Isère,1271938\n",
      "Jura,270826\n",
      "La Réunion,541487\n",
      "Landes,414090\n",
      "Loire,774262\n",
      "Loire-Atlantique,1382766\n",
      "Loiret,688098\n",
      "Loir-et-Cher,344121\n",
      "Lot,180016\n",
      "Lot-et-Garonne,343198\n",
      "Lozère,80423\n",
      "Maine-et-Loire,829156\n",
      "Manche,518322\n",
      "Marne,584297\n",
      "Martinique,390252\n",
      "Mayenne,317716\n",
      "Meurthe-et-Moselle,746687\n",
      "Meuse,197763\n",
      "Morbihan,764338\n",
      "Moselle,1065894\n",
      "Nièvre,221048\n",
      "Nord,2640622\n",
      "Oise,838646\n",
      "Orne,297109\n",
      "Paris,2243739\n",
      "Pas-de-Calais,1497668\n",
      "Puy-de-Dôme,661248\n",
      "Pyrénées-Atlantiques,688451\n",
      "Pyrénées-Orientales,474842\n",
      "Rhône,1833002\n",
      "Saône-et-Loire,574229\n",
      "Sarthe,583961\n",
      "Savoie,440777\n",
      "Seine-et-Marne,1400477\n",
      "Seine-Maritime,1284107\n",
      "Seine-Saint-Denis,1582139\n",
      "Somme,583641\n",
      "Tarn,396341\n",
      "Tarn-et-Garonne,258696\n",
      "Territoire de Belfort,147647\n",
      "Val-de-Marne,1377511\n",
      "Val-d'Oise,1221946\n",
      "Var,1055745\n",
      "Vaucluse,566592\n",
      "Vendée,681469\n",
      "Vienne,444347\n",
      "Vosges,386978\n",
      "Yonne,352433\n",
      "Yvelines,1449398\n"
     ]
    }
   ],
   "source": [
    "data = f.read()\n",
    "print(data)"
   ]
  },
  {
   "cell_type": "markdown",
   "id": "d1b5202e",
   "metadata": {},
   "source": [
    "---\n",
    "# Séparation des élément\n",
    "## Creation d'une liste a partir d'une chaine de caractère"
   ]
  },
  {
   "cell_type": "code",
   "execution_count": 84,
   "id": "cf98b08b",
   "metadata": {},
   "outputs": [],
   "source": [
    "list_data = data.split(\"\\n\")"
   ]
  },
  {
   "cell_type": "code",
   "execution_count": 85,
   "id": "12fb5de6",
   "metadata": {},
   "outputs": [
    {
     "name": "stdout",
     "output_type": "stream",
     "text": [
      "['Ain,643309', 'Aisne,554040', 'Allier,353262', 'Alpes-de-Haute-Provence,166298', 'Alpes-Maritimes,1098785', 'Ardèche,332051', 'Ardennes,287775', 'Ariège,158076', 'Aube,316098', 'Aude,375065', 'Aveyron,289901', 'Bas-Rhin,1131812', 'Bouches-du-Rhône,2035475', 'Calvados,708407', 'Cantal,152400', 'Charente,366787', 'Charente-Maritime,656046', 'Cher,318590', 'Corrèze,249684', 'Corse-du-Sud,154100', \"Côte-d'Or,545001\", \"Côtes-d'Armor,617413\", 'Creuse,124948', 'Deux-Sèvres,384655', 'Dordogne,428651', 'Doubs,549155', 'Drôme,514104', 'Essonne,1286908', 'Eure,616076', 'Eure-et-Loir,445083', 'Finistère,935393', 'Gard,752382', 'Gers,197988', 'Gironde,1556663', 'Guadeloupe,406706', 'Guyane,254845', 'Haute-Corse,175499', 'Haute-Garonne,1344579', 'Haute-Loire,234078', 'Haute-Marne,186698', 'Hautes-Alpes,145213', 'Haute-Saône,246022', 'Haute-Savoie,806447', 'Hautes-Pyrénées,236577', 'Haute-Vienne,384708', 'Haut-Rhin,775941', 'Hauts-de-Seine,1617484', 'Hérault,1127333', 'Ille-et-Vilaine,1060051', 'Indre,232802', 'Indre-et-Loire,619004', 'Isère,1271938', 'Jura,270826', 'La Réunion,541487', 'Landes,414090', 'Loire,774262', 'Loire-Atlantique,1382766', 'Loiret,688098', 'Loir-et-Cher,344121', 'Lot,180016', 'Lot-et-Garonne,343198', 'Lozère,80423', 'Maine-et-Loire,829156', 'Manche,518322', 'Marne,584297', 'Martinique,390252', 'Mayenne,317716', 'Meurthe-et-Moselle,746687', 'Meuse,197763', 'Morbihan,764338', 'Moselle,1065894', 'Nièvre,221048', 'Nord,2640622', 'Oise,838646', 'Orne,297109', 'Paris,2243739', 'Pas-de-Calais,1497668', 'Puy-de-Dôme,661248', 'Pyrénées-Atlantiques,688451', 'Pyrénées-Orientales,474842', 'Rhône,1833002', 'Saône-et-Loire,574229', 'Sarthe,583961', 'Savoie,440777', 'Seine-et-Marne,1400477', 'Seine-Maritime,1284107', 'Seine-Saint-Denis,1582139', 'Somme,583641', 'Tarn,396341', 'Tarn-et-Garonne,258696', 'Territoire de Belfort,147647', 'Val-de-Marne,1377511', \"Val-d'Oise,1221946\", 'Var,1055745', 'Vaucluse,566592', 'Vendée,681469', 'Vienne,444347', 'Vosges,386978', 'Yonne,352433', 'Yvelines,1449398']\n"
     ]
    }
   ],
   "source": [
    "print(list_data)"
   ]
  },
  {
   "cell_type": "markdown",
   "id": "994aa3f1",
   "metadata": {},
   "source": [
    "---\n",
    "# Training:\n",
    "   ## .soit la variable ten_rows contenent les 10 prémière élément de la liste list_data\n",
    "   ## . Écrire une boucle pour chaque élément de ten_rows applique la fonction print() "
   ]
  },
  {
   "cell_type": "code",
   "execution_count": 83,
   "id": "6074be71",
   "metadata": {},
   "outputs": [
    {
     "name": "stdout",
     "output_type": "stream",
     "text": [
      "Ain,643309\n",
      "Aisne,554040\n",
      "Allier,353262\n",
      "Alpes-de-Haute-Provence,166298\n",
      "Alpes-Maritimes,1098785\n",
      "Ardèche,332051\n",
      "Ardennes,287775\n",
      "Ariège,158076\n",
      "Aube,316098\n",
      "Aude,375065\n"
     ]
    }
   ],
   "source": [
    "ten_rows = list_data[0:10]\n",
    "for row in ten_rows:\n",
    "    print (row)"
   ]
  },
  {
   "cell_type": "markdown",
   "id": "e9379ad2",
   "metadata": {},
   "source": [
    "---\n",
    "# liste de liste\n",
    "# Trainig :\n",
    "   ## . Créer une liste vide final_data\n",
    "   ## . Écrire une boucle for qui:\n",
    "   ###       . Délimite les élément de la liste list_data\n",
    "   ###       . Ajouter chaque élément de la liste final_data\n",
    "  ##  . Afficher les 5 prémière éléments de la liste final_data"
   ]
  },
  {
   "cell_type": "code",
   "execution_count": 87,
   "id": "11780988",
   "metadata": {},
   "outputs": [
    {
     "data": {
      "text/plain": [
       "[['Ain', '643309'],\n",
       " ['Aisne', '554040'],\n",
       " ['Allier', '353262'],\n",
       " ['Alpes-de-Haute-Provence', '166298'],\n",
       " ['Alpes-Maritimes', '1098785']]"
      ]
     },
     "execution_count": 87,
     "metadata": {},
     "output_type": "execute_result"
    }
   ],
   "source": [
    "final_data = []\n",
    "for row in list_data:\n",
    "    split_list = row.split(',')\n",
    "    final_data.append(split_list)\n",
    "final_data[0:5]"
   ]
  },
  {
   "cell_type": "markdown",
   "id": "5911fc2e",
   "metadata": {},
   "source": [
    "---\n",
    "# Récupérer et afficher les élément d'une liste des listes "
   ]
  },
  {
   "cell_type": "markdown",
   "id": "c8834958",
   "metadata": {},
   "source": [
    "# Training\n",
    "## . Créer une nouvelle liste departement_list qui contient tous les noms des départements final_data"
   ]
  },
  {
   "cell_type": "code",
   "execution_count": 90,
   "id": "b6e9e4e5",
   "metadata": {},
   "outputs": [
    {
     "name": "stdout",
     "output_type": "stream",
     "text": [
      "['Ain', 'Aisne', 'Allier', 'Alpes-de-Haute-Provence', 'Alpes-Maritimes', 'Ardèche', 'Ardennes', 'Ariège', 'Aube', 'Aude', 'Aveyron', 'Bas-Rhin', 'Bouches-du-Rhône', 'Calvados', 'Cantal', 'Charente', 'Charente-Maritime', 'Cher', 'Corrèze', 'Corse-du-Sud', \"Côte-d'Or\", \"Côtes-d'Armor\", 'Creuse', 'Deux-Sèvres', 'Dordogne', 'Doubs', 'Drôme', 'Essonne', 'Eure', 'Eure-et-Loir', 'Finistère', 'Gard', 'Gers', 'Gironde', 'Guadeloupe', 'Guyane', 'Haute-Corse', 'Haute-Garonne', 'Haute-Loire', 'Haute-Marne', 'Hautes-Alpes', 'Haute-Saône', 'Haute-Savoie', 'Hautes-Pyrénées', 'Haute-Vienne', 'Haut-Rhin', 'Hauts-de-Seine', 'Hérault', 'Ille-et-Vilaine', 'Indre', 'Indre-et-Loire', 'Isère', 'Jura', 'La Réunion', 'Landes', 'Loire', 'Loire-Atlantique', 'Loiret', 'Loir-et-Cher', 'Lot', 'Lot-et-Garonne', 'Lozère', 'Maine-et-Loire', 'Manche', 'Marne', 'Martinique', 'Mayenne', 'Meurthe-et-Moselle', 'Meuse', 'Morbihan', 'Moselle', 'Nièvre', 'Nord', 'Oise', 'Orne', 'Paris', 'Pas-de-Calais', 'Puy-de-Dôme', 'Pyrénées-Atlantiques', 'Pyrénées-Orientales', 'Rhône', 'Saône-et-Loire', 'Sarthe', 'Savoie', 'Seine-et-Marne', 'Seine-Maritime', 'Seine-Saint-Denis', 'Somme', 'Tarn', 'Tarn-et-Garonne', 'Territoire de Belfort', 'Val-de-Marne', \"Val-d'Oise\", 'Var', 'Vaucluse', 'Vendée', 'Vienne', 'Vosges', 'Yonne', 'Yvelines']\n"
     ]
    }
   ],
   "source": [
    "departements_list = []\n",
    "for rows in final_data:\n",
    "    departement_name_list = rows[0]\n",
    "    departements_list.append(departement_name_list)\n",
    "print(departements_list)"
   ]
  },
  {
   "cell_type": "markdown",
   "id": "781289a5",
   "metadata": {},
   "source": [
    "---\n",
    "# Challenge\n",
    "    ouvrir un nouveau fichier sur jupyter notebook et créer une liste d'entiers contenant le nombre d'habitants de tous les départements français "
   ]
  },
  {
   "cell_type": "code",
   "execution_count": null,
   "id": "2037e997",
   "metadata": {},
   "outputs": [],
   "source": []
  }
 ],
 "metadata": {
  "kernelspec": {
   "display_name": "Python 3 (ipykernel)",
   "language": "python",
   "name": "python3"
  },
  "language_info": {
   "codemirror_mode": {
    "name": "ipython",
    "version": 3
   },
   "file_extension": ".py",
   "mimetype": "text/x-python",
   "name": "python",
   "nbconvert_exporter": "python",
   "pygments_lexer": "ipython3",
   "version": "3.11.5"
  }
 },
 "nbformat": 4,
 "nbformat_minor": 5
}
