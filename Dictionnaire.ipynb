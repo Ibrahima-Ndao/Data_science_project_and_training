{
 "cells": [
  {
   "cell_type": "markdown",
   "id": "20dcfcd7",
   "metadata": {},
   "source": [
    "# Les dictionnaires"
   ]
  },
  {
   "cell_type": "markdown",
   "id": "664fa31f",
   "metadata": {},
   "source": [
    "## Qu'est ce qu'un dictionnaire?"
   ]
  },
  {
   "cell_type": "markdown",
   "id": "2aef1900",
   "metadata": {},
   "source": [
    "En Python, un dictionnaire est une structure de données flexible qui permet de stocker des paires clé-valeur. Chaque élément dans un dictionnaire est constitué d'une clé associée à une valeur correspondante. Les clés doivent être uniques et immuables (par exemple, des chaînes de caractères, des nombres ou des tuples), tandis que les valeurs peuvent être de n'importe quel type de données, y compris d'autres dictionnaires.\n",
    "\n",
    "Voici un exemple simple de création d'un dictionnaire en Python :"
   ]
  },
  {
   "cell_type": "code",
   "execution_count": 1,
   "id": "de50a6e4",
   "metadata": {},
   "outputs": [],
   "source": [
    "mon_dictionnaire = {\"clé1\": \"valeur1\", \"clé2\": 42, \"clé3\": [1, 2, 3]}"
   ]
  },
  {
   "cell_type": "markdown",
   "id": "42a17161",
   "metadata": {},
   "source": [
    "Vous pouvez accéder à la valeur d'une clé spécifique en utilisant la notation des crochets :"
   ]
  },
  {
   "cell_type": "code",
   "execution_count": 3,
   "id": "be557193",
   "metadata": {},
   "outputs": [
    {
     "name": "stdout",
     "output_type": "stream",
     "text": [
      "valeur1\n",
      "42\n",
      "[1, 2, 3]\n"
     ]
    }
   ],
   "source": [
    "print(mon_dictionnaire[\"clé1\"])  # Affiche \"valeur1\"\n",
    "print(mon_dictionnaire[\"clé2\"])  # Affiche 42\n",
    "print(mon_dictionnaire[\"clé3\"])  # Affiche [1, 2, 3]\n"
   ]
  },
  {
   "cell_type": "markdown",
   "id": "5218f2d6",
   "metadata": {},
   "source": [
    "Vous pouvez également modifier la valeur associée à une clé existante ou ajouter de nouvelles paires clé-valeur :"
   ]
  },
  {
   "cell_type": "code",
   "execution_count": 6,
   "id": "3679e380",
   "metadata": {},
   "outputs": [],
   "source": [
    "mon_dictionnaire[\"clé2\"] = 100  # Modifie la valeur associée à \"clé2\"\n",
    "mon_dictionnaire[\"nouvelle_clé\"] = \"nouvelle_valeur\"  # Ajoute une nouvelle paire clé-valeur"
   ]
  },
  {
   "cell_type": "markdown",
   "id": "580df44c",
   "metadata": {},
   "source": [
    "Les dictionnaires sont largement utilisés en Python pour représenter des associations de données et sont particulièrement utiles lorsque vous avez besoin d'accéder rapidement à des valeurs en fonction de clés spécifiques."
   ]
  },
  {
   "cell_type": "code",
   "execution_count": 7,
   "id": "77ed7781",
   "metadata": {},
   "outputs": [],
   "source": [
    "scors = {'Ibrahima': 18.5, 'Daouda': 17, 'Abib': 19, 'Ndeye': 12} "
   ]
  },
  {
   "cell_type": "markdown",
   "id": "14aad4c7",
   "metadata": {},
   "source": [
    "# Trainig :\n",
    "1. Ajouter Marie au dictionnaire scor avec une moyenne de 15\n",
    "2. Ajouter 2 a la moyenne de Ndeye\n",
    "3. Modifier la moyenne de Daouda par 14\n",
    "4. verifier la présence de Abib dans le dictionnaire\n",
    "5. Montrer que Tom n'est pas dans le dictionnaire"
   ]
  },
  {
   "cell_type": "code",
   "execution_count": 14,
   "id": "4a68b4cb",
   "metadata": {},
   "outputs": [
    {
     "data": {
      "text/plain": [
       "{'Ibrahima': 18.5, 'Daouda': 14, 'Abib': 19, 'Ndeye': 12, 'Marie': 15}"
      ]
     },
     "execution_count": 14,
     "metadata": {},
     "output_type": "execute_result"
    }
   ],
   "source": [
    "scors['Marie'] = 15\n",
    "scors"
   ]
  },
  {
   "cell_type": "code",
   "execution_count": 17,
   "id": "d84266ba",
   "metadata": {},
   "outputs": [
    {
     "data": {
      "text/plain": [
       "{'Ibrahima': 18.5, 'Daouda': 14, 'Abib': 19, 'Ndeye': 16, 'Marie': 15}"
      ]
     },
     "execution_count": 17,
     "metadata": {},
     "output_type": "execute_result"
    }
   ],
   "source": [
    "scors['Ndeye'] = scors['Ndeye'] + 2\n",
    "scors"
   ]
  },
  {
   "cell_type": "code",
   "execution_count": 15,
   "id": "1d878212",
   "metadata": {},
   "outputs": [
    {
     "data": {
      "text/plain": [
       "{'Ibrahima': 18.5, 'Daouda': 14, 'Abib': 19, 'Ndeye': 12, 'Marie': 15}"
      ]
     },
     "execution_count": 15,
     "metadata": {},
     "output_type": "execute_result"
    }
   ],
   "source": [
    "scors['Daouda'] = 14\n",
    "scors"
   ]
  },
  {
   "cell_type": "code",
   "execution_count": 21,
   "id": "4d71fca4",
   "metadata": {},
   "outputs": [],
   "source": [
    "presence_Abib = 'Abib est présent dans la liste' if 'Abib' in scors else 'Abib is not in list'"
   ]
  },
  {
   "cell_type": "code",
   "execution_count": 23,
   "id": "d13f18a4",
   "metadata": {},
   "outputs": [
    {
     "data": {
      "text/plain": [
       "'Abib est présent dans la liste'"
      ]
     },
     "execution_count": 23,
     "metadata": {},
     "output_type": "execute_result"
    }
   ],
   "source": [
    "presence_Abib"
   ]
  },
  {
   "cell_type": "code",
   "execution_count": 24,
   "id": "fdeaf114",
   "metadata": {},
   "outputs": [],
   "source": [
    "presence_Tom = 'Tom is in the list' if 'Tom' in scors else 'Tom is not in list'"
   ]
  },
  {
   "cell_type": "code",
   "execution_count": 25,
   "id": "edf65fb2",
   "metadata": {},
   "outputs": [
    {
     "data": {
      "text/plain": [
       "'Tom is not in list'"
      ]
     },
     "execution_count": 25,
     "metadata": {},
     "output_type": "execute_result"
    }
   ],
   "source": [
    "presence_Tom"
   ]
  },
  {
   "cell_type": "markdown",
   "id": "b14bc6a6",
   "metadata": {},
   "source": [
    "# Compter les élément d'une liste et les ajouter dans un dictionnaire"
   ]
  },
  {
   "cell_type": "code",
   "execution_count": 29,
   "id": "d1b68d94",
   "metadata": {},
   "outputs": [
    {
     "data": {
      "text/plain": [
       "{'avocado': 3, 'banana': 2, 'Apple': 2, 'orange': 1, 'lemon': 1, 'ornge': 1}"
      ]
     },
     "execution_count": 29,
     "metadata": {},
     "output_type": "execute_result"
    }
   ],
   "source": [
    "fruits = ['avocado', 'banana', 'avocado', 'Apple', 'orange', 'avocado', 'Apple', 'banana', 'lemon', 'ornge']\n",
    "fruit_nb = {}\n",
    "for fruit in fruits:\n",
    "    if fruit in fruit_nb:\n",
    "        fruit_nb[fruit] = fruit_nb[fruit] + 1\n",
    "    else:\n",
    "        fruit_nb[fruit] = 1\n",
    "fruit_nb"
   ]
  },
  {
   "cell_type": "markdown",
   "id": "abd46c5f",
   "metadata": {},
   "source": [
    "# Training :\n",
    "1. Prend notre liste weather qui contient tous les climats de Madrid sur l'année 2016\n",
    "2. Crée un dictionnaire vide weather_counts\n",
    "3. compter combien de fois chaque climat apparait dans la liste weather\n",
    "4. A la fin, le dictionnaire weather_counts doit contenir les différents climats de Madrid en 2016 avec leurs fréquence sur 365 jours.\n",
    "5. Afficher le résultat"
   ]
  },
  {
   "cell_type": "code",
   "execution_count": 56,
   "id": "62618740",
   "metadata": {},
   "outputs": [],
   "source": [
    "f = open('madrid_weather_2016.csv', 'r')"
   ]
  },
  {
   "cell_type": "code",
   "execution_count": 57,
   "id": "3f09529d",
   "metadata": {},
   "outputs": [],
   "source": [
    "g = f.read()"
   ]
  },
  {
   "cell_type": "code",
   "execution_count": 58,
   "id": "ea3353d5",
   "metadata": {},
   "outputs": [
    {
     "data": {
      "text/plain": [
       "['1,Soleil', '2,Soleil', '3,Soleil', '4,Soleil', '5,Soleil']"
      ]
     },
     "execution_count": 58,
     "metadata": {},
     "output_type": "execute_result"
    }
   ],
   "source": [
    "data = g.split(\"\\n\")\n",
    "data_list = data[1:len(data)]\n",
    "data_list[0:5]"
   ]
  },
  {
   "cell_type": "code",
   "execution_count": 61,
   "id": "bf95e825",
   "metadata": {},
   "outputs": [
    {
     "data": {
      "text/plain": [
       "['Soleil', 'Soleil', 'Soleil', 'Soleil', 'Soleil']"
      ]
     },
     "execution_count": 61,
     "metadata": {},
     "output_type": "execute_result"
    }
   ],
   "source": [
    "weather_list = []\n",
    "weathers = []\n",
    "for bd in data_list:\n",
    "    d = bd.split(',')\n",
    "    weather_list.append(d)\n",
    "for weather in weather_list:\n",
    "    weathers.append(weather[1])\n",
    "weathers[0:5]"
   ]
  },
  {
   "cell_type": "code",
   "execution_count": 63,
   "id": "7177de8a",
   "metadata": {},
   "outputs": [
    {
     "name": "stdout",
     "output_type": "stream",
     "text": [
      "{'Soleil': 210, 'Pluie': 25, 'Nuage': 125, 'Nuage-Pluie': 4, 'Orage': 1}\n"
     ]
    }
   ],
   "source": [
    "weather_counts = {}\n",
    "for itm in weathers:\n",
    "    if itm in weather_counts:\n",
    "        weather_counts[itm] += 1\n",
    "    else:\n",
    "        weather_counts[itm] = 1\n",
    "print(weather_counts)"
   ]
  },
  {
   "cell_type": "code",
   "execution_count": null,
   "id": "c1ea9829",
   "metadata": {},
   "outputs": [],
   "source": []
  }
 ],
 "metadata": {
  "kernelspec": {
   "display_name": "Python 3 (ipykernel)",
   "language": "python",
   "name": "python3"
  },
  "language_info": {
   "codemirror_mode": {
    "name": "ipython",
    "version": 3
   },
   "file_extension": ".py",
   "mimetype": "text/x-python",
   "name": "python",
   "nbconvert_exporter": "python",
   "pygments_lexer": "ipython3",
   "version": "3.11.5"
  }
 },
 "nbformat": 4,
 "nbformat_minor": 5
}
